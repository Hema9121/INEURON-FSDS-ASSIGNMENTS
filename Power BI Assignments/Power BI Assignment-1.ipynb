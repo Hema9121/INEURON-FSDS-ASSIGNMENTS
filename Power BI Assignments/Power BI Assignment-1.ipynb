{
 "cells": [
  {
   "cell_type": "markdown",
   "id": "a0234dd7-c298-4bf9-b8c6-4c762e86f053",
   "metadata": {},
   "source": [
    "# Power BI Assignment 1\r\n"
   ]
  },
  {
   "cell_type": "markdown",
   "id": "6d2051e2-2887-43f0-adb7-6cbef200e5f2",
   "metadata": {},
   "source": [
    "##### 1. What do you mean by BI? Explain.\r\n"
   ]
  },
  {
   "cell_type": "markdown",
   "id": "3effa611-a765-489c-a141-8cc0b80c3748",
   "metadata": {},
   "source": [
    "Business intelligence (BI) is a set of strategies and technologies enterprises use to analyze business information and transform it into actionable insights that inform strategic and tactical business decisions."
   ]
  },
  {
   "cell_type": "markdown",
   "id": "dc344eaf-3ba2-429f-9e61-d8cd49f2334b",
   "metadata": {},
   "source": [
    "##### 2. How Power-BI helps in BI, and how does it help Analysts? Explain."
   ]
  },
  {
   "cell_type": "markdown",
   "id": "95481186-5b7b-4764-bc69-2ed965420552",
   "metadata": {},
   "source": [
    "Power BI can help connect disparate data sets, transform and clean the data into a data model and create charts or graphs to provide visuals of the data. "
   ]
  },
  {
   "cell_type": "markdown",
   "id": "b167fd9c-fc00-445c-ae17-e51e0c784295",
   "metadata": {},
   "source": [
    "##### 3. Explain Descriptive analytics?"
   ]
  },
  {
   "cell_type": "markdown",
   "id": "35e1c728-368a-4b44-b642-babbeb30e689",
   "metadata": {},
   "source": [
    "Descriptive analytics is a statistical interpretation used to analyze historical data to identify patterns and relationships."
   ]
  },
  {
   "cell_type": "markdown",
   "id": "300a2ab6-32f9-4d37-9c1f-546e43c8306d",
   "metadata": {},
   "source": [
    "##### 4. Explain Predictive analytics?\r\n"
   ]
  },
  {
   "cell_type": "markdown",
   "id": "51dc9cd2-faf5-468b-882f-213eeb3408e2",
   "metadata": {},
   "source": [
    "Predictive analytics is the process of using data to forecast future outcomes. "
   ]
  },
  {
   "cell_type": "markdown",
   "id": "19862cfa-3cb7-4b2e-8c7e-8a31fc43ccd1",
   "metadata": {},
   "source": [
    "##### 5. Explain perspective analytics?"
   ]
  },
  {
   "cell_type": "markdown",
   "id": "a104667f-d5f0-4ba1-9119-0d4519e4aaae",
   "metadata": {},
   "source": [
    "Prescriptive analytics is the use of advanced processes and tools to analyze data and content to recommend the optimal course of action or strategy moving forward."
   ]
  },
  {
   "cell_type": "markdown",
   "id": "b759f9eb-3bb9-4290-9684-136aa340a4c4",
   "metadata": {},
   "source": [
    "##### 6. Write five real-life questions that PowerBi can solve."
   ]
  },
  {
   "cell_type": "markdown",
   "id": "2050c70b-e62d-4489-9230-d2740988a6d0",
   "metadata": {},
   "source": [
    "1. Waiting On Figures \r",
    "\r\n",
    "2. Using Data From Old Repor\n",
    "3. Excessive Time Spent Preparing For Presentations\n",
    "4. Being Unable To Find Specific Data Sets\n",
    "5. Not Being Able To Determine Your Level Of Successts"
   ]
  }
 ],
 "metadata": {
  "kernelspec": {
   "display_name": "Python 3 (ipykernel)",
   "language": "python",
   "name": "python3"
  },
  "language_info": {
   "codemirror_mode": {
    "name": "ipython",
    "version": 3
   },
   "file_extension": ".py",
   "mimetype": "text/x-python",
   "name": "python",
   "nbconvert_exporter": "python",
   "pygments_lexer": "ipython3",
   "version": "3.10.13"
  }
 },
 "nbformat": 4,
 "nbformat_minor": 5
}
