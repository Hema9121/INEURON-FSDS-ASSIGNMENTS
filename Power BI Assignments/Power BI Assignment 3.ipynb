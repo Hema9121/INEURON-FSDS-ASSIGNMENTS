{
 "cells": [
  {
   "cell_type": "markdown",
   "id": "9916f550-16d7-450a-9683-9aa5cffcc07e",
   "metadata": {},
   "source": [
    "# Power BI Assignment 2"
   ]
  },
  {
   "cell_type": "markdown",
   "id": "a234d5bf-0239-4e26-8f1f-9e50e425c2c9",
   "metadata": {},
   "source": [
    "##### 1. Explain the advantages of Natural Queries in PowerBi with an example?\r\n"
   ]
  },
  {
   "cell_type": "markdown",
   "id": "e7ab2410-3a9e-4d73-a7c6-835ca80ef2b5",
   "metadata": {},
   "source": [
    "guided nlq is a unique self-service bi experience\n",
    "\n",
    "every question is understood by guided nlq\n",
    "\n",
    "guided nlq makes it simple to ask complex questions\n",
    "\n",
    "guided nlq is integrated throughout yellow\n",
    "\n",
    "it's easy to embed guided nlq into your applications"
   ]
  },
  {
   "cell_type": "markdown",
   "id": "a90df3ac-d4a0-482a-8de2-a5f1a6f1d28a",
   "metadata": {},
   "source": [
    "##### 2. Explain Web Front End(WFE) cluster from Power BI Service Architecture?\r\n"
   ]
  },
  {
   "cell_type": "markdown",
   "id": "44140d32-e069-4c6c-bd7d-1efbef4f4bec",
   "metadata": {},
   "source": [
    "The Web Front End (WFE) cluster. The WFE cluster manages the initial connection and authentication to the Power BI service. "
   ]
  },
  {
   "cell_type": "markdown",
   "id": "c884f05f-a824-49ba-bae5-11883bb5b501",
   "metadata": {},
   "source": [
    "##### 3. Explain Back End cluster from Power BI Service Architecture?\r\n"
   ]
  },
  {
   "cell_type": "markdown",
   "id": "74f78e1d-ac27-4238-b76d-79939fe09555",
   "metadata": {},
   "source": [
    "The Back-End cluster manages visualizations, user dashboards, semantic models, reports, data storage, data connections, data refresh, and other aspects of interacting with the Power BI service. "
   ]
  },
  {
   "cell_type": "markdown",
   "id": "b777df5a-aff1-4875-a803-19c028327abe",
   "metadata": {},
   "source": [
    "##### 4. What ASP.NET component does in Power BI Service Architecture?\r\n"
   ]
  },
  {
   "cell_type": "markdown",
   "id": "223e42ce-6235-4b44-9b36-25210eef2e4e",
   "metadata": {},
   "source": [
    " We are using ASP.NET Identity to store our users in a SQL database, however, you can use which ever identity provider you wish. We have also added a 'PowerBiRole' column to the users table - this could be added anywhere as long as you can pair it with a user. This 'role' is a PowerBi Role and is different to the ASP.NET Roles you may be familiar with. PowerBi uses this Role as a predicate to filter the report for the given user."
   ]
  },
  {
   "cell_type": "markdown",
   "id": "ca007bb0-37df-4bde-b47d-04fa68aa1044",
   "metadata": {},
   "source": [
    "##### 5. Compare Microsoft Excel and PowerBi Desktop on the following features:\r",
    "Data import\r\n",
    "\r\n",
    "Data transformation\r\n",
    "\r\n",
    "Modeling\r\n",
    "\r\n",
    "Reporting\r\n",
    "\r\n",
    "Server Deployment\r\n",
    "\r\n",
    "Convert Models\r\n",
    "\r\n",
    "Costs\r\n",
    "Cost\r\n"
   ]
  },
  {
   "cell_type": "markdown",
   "id": "d269287c-1f92-4a9d-9d92-caa7cdb65c4f",
   "metadata": {},
   "source": [
    "Excel has limitations in the amount of data it can work with. In contrast, Power BI can handle much larger amounts of data. Power BI can connect to a large number of data sources, while Excel's connectivity capacity is limited. Also, unlike Excel, Power BI can be easily used from mobile devices."
   ]
  },
  {
   "cell_type": "markdown",
   "id": "53dd8022-efe6-4bcf-b1ab-221d082a3d8f",
   "metadata": {},
   "source": [
    "##### 6. List 20 data sources supported by Power Bi desktop.\r\n"
   ]
  },
  {
   "cell_type": "markdown",
   "id": "59d8b104-0c13-4424-9e2f-b480a203bd1f",
   "metadata": {},
   "source": [
    "    SQL Server database\n",
    "    Access database\n",
    "    SQL Server Analysis Services database\n",
    "    Oracle database\n",
    "    IBM Db2 database\n",
    "    IBM Informix database (Beta)\n",
    "    IBM Netezza\n",
    "    MySQL database\n",
    "    PostgreSQL database\n",
    "    Sybase database\n",
    "    Teradata database\n",
    "    SAP HANA database\n",
    "    SAP Business Warehouse Application Server\n",
    "    SAP Business Warehouse Message Server\n",
    "    Amazon Redshift\n",
    "    Impala\n",
    "    Google BigQuery\n",
    "    Google BigQuery (Azure AD)(Beta)\n",
    "    Vertica\n",
    "    Snowflake\n",
    "    Essbase\n",
    "    AtScale Models\n",
    "    Actian (Beta)\n",
    "    Amazon Athena\n",
    "    AtScale cubes\n",
    "    BI Connector\n",
    "    Data Virtuality LDW\n",
    "    Denodo"
   ]
  },
  {
   "cell_type": "code",
   "execution_count": null,
   "id": "dbf4df34-d5b3-41ca-8dfd-fd259328a1cb",
   "metadata": {},
   "outputs": [],
   "source": []
  }
 ],
 "metadata": {
  "kernelspec": {
   "display_name": "Python 3 (ipykernel)",
   "language": "python",
   "name": "python3"
  },
  "language_info": {
   "codemirror_mode": {
    "name": "ipython",
    "version": 3
   },
   "file_extension": ".py",
   "mimetype": "text/x-python",
   "name": "python",
   "nbconvert_exporter": "python",
   "pygments_lexer": "ipython3",
   "version": "3.10.13"
  }
 },
 "nbformat": 4,
 "nbformat_minor": 5
}
