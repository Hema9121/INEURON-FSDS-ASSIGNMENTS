{
 "cells": [
  {
   "cell_type": "markdown",
   "id": "1181d054-c445-44bd-881c-7fec95cf735a",
   "metadata": {},
   "source": [
    "# SQL Assignment 3"
   ]
  },
  {
   "cell_type": "markdown",
   "id": "f9dd9a9b-dcd1-4914-b4d8-0466c53be822",
   "metadata": {},
   "source": [
    "##### 1. Create a function and then call another function from within it. What is this process called?\r\n"
   ]
  },
  {
   "cell_type": "markdown",
   "id": "31bf79f9-20d3-48db-b56c-1acd56e26221",
   "metadata": {},
   "source": [
    "Calling a function from within itself is called recursion"
   ]
  },
  {
   "cell_type": "markdown",
   "id": "55387850-8b17-41cc-8d73-25068bd29f43",
   "metadata": {},
   "source": [
    "##### 2. How to inspect the query's execution plan?\r\n"
   ]
  },
  {
   "cell_type": "markdown",
   "id": "d6e3d8f2-eaa0-4b4a-8386-715dbea9ad50",
   "metadata": {},
   "source": [
    "On the SQL Server Management Studio toolbar, select Database Engine Query. You can also open an existing query and display the estimated execution plan by selecting the Open File toolbar button and locating the existing query. Enter the query for which you would like to display the actual execution plan."
   ]
  },
  {
   "cell_type": "markdown",
   "id": "a45ec137-a8ba-44a8-aa3d-9de85808491c",
   "metadata": {},
   "source": [
    "##### 3. What is the purpose of the MAXDOP and recompiling keywords in SQL queries?\r\n"
   ]
  },
  {
   "cell_type": "markdown",
   "id": "c3bfdbbc-a96c-44c8-940e-35f72a3cd529",
   "metadata": {},
   "source": [
    " It controls the number of processors used to run a single statement in parallel plan execution. \n",
    "\n",
    " recompiling a procedure updates and optimizes the procedure's query plan for those changes."
   ]
  },
  {
   "cell_type": "markdown",
   "id": "23737f1e-3719-4941-92ed-d14e6175cf39",
   "metadata": {},
   "source": [
    "##### 4. How to build DDL statements from an existing database table, write steps for it?"
   ]
  },
  {
   "cell_type": "markdown",
   "id": "59c687da-b379-4341-96ae-f935343c3b45",
   "metadata": {},
   "source": [
    "DROP TABLE Table_Name;  "
   ]
  },
  {
   "cell_type": "markdown",
   "id": "d25ef75d-0b28-4b54-8041-587187d0deda",
   "metadata": {},
   "source": [
    "ALTER TABLE name_of_table ADD column_name column_definition;  "
   ]
  },
  {
   "cell_type": "markdown",
   "id": "1b67facc-79b4-4208-8c6e-a9f7ce5bd8ef",
   "metadata": {},
   "source": [
    "TRUNCATE TABLE Table_Name;  "
   ]
  },
  {
   "cell_type": "markdown",
   "id": "8c3287af-f032-4862-9503-56b3e4c16613",
   "metadata": {},
   "source": [
    "RENAME TABLE Old_Table_Name TO New_Table_Name;  \r\n"
   ]
  },
  {
   "cell_type": "markdown",
   "id": "7fb3a266-57ef-48d6-9702-d43306d41ca4",
   "metadata": {},
   "source": [
    "##### 5. How to update data in a table using an inner join, write an example?\r\n"
   ]
  },
  {
   "cell_type": "markdown",
   "id": "b2cb9dec-7d16-4cf4-b44f-e4bcc45e7d3f",
   "metadata": {},
   "source": [
    "UPDATE P\r\n",
    "   SET IsDiscontinued = 1\r\n",
    "  FROM Product P\r\n",
    "  LEFT JOIN OrderItem I ON P.Id = I.ProductId\r\n",
    " WHERE I.Id IS NULL"
   ]
  },
  {
   "cell_type": "markdown",
   "id": "ac29578a-f97a-436b-b5b0-c2e0f712eb17",
   "metadata": {},
   "source": [
    "##### 6. Differentiate between truncate, delete, and drop with a suitable example."
   ]
  },
  {
   "cell_type": "markdown",
   "id": "3bc4479a-3034-4c31-85dc-b00da8c50e37",
   "metadata": {},
   "source": [
    "The DROP command in SQL removes the table from the database, the DELETE command removes one or more records from the table, and the TRUNCATE command removes all the rows from the existing table."
   ]
  },
  {
   "cell_type": "markdown",
   "id": "9273ca24-c3d0-4eeb-b00c-a5075fa93a9e",
   "metadata": {},
   "source": []
  },
  {
   "cell_type": "markdown",
   "id": "43a66b7b-daf8-4445-a633-dd544961ad50",
   "metadata": {},
   "source": []
  }
 ],
 "metadata": {
  "kernelspec": {
   "display_name": "Python 3 (ipykernel)",
   "language": "python",
   "name": "python3"
  },
  "language_info": {
   "codemirror_mode": {
    "name": "ipython",
    "version": 3
   },
   "file_extension": ".py",
   "mimetype": "text/x-python",
   "name": "python",
   "nbconvert_exporter": "python",
   "pygments_lexer": "ipython3",
   "version": "3.10.13"
  }
 },
 "nbformat": 4,
 "nbformat_minor": 5
}
