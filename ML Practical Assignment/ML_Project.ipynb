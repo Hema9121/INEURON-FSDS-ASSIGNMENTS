{
 "cells": [
  {
   "cell_type": "code",
   "execution_count": 1,
   "metadata": {},
   "outputs": [],
   "source": [
    "import sqlite3\n",
    "import numpy as np\n",
    "import pandas as pd\n",
    "%matplotlib notebook\n",
    "import matplotlib.pyplot as plt\n",
    "import xgboost as xgb\n",
    "from xgboost.sklearn import XGBRegressor\n",
    "from xgboost import plot_importance\n",
    "\n",
    "from sklearn.linear_model import LinearRegression\n",
    "from sklearn.tree import DecisionTreeRegressor\n",
    "from sklearn.ensemble import RandomForestRegressor\n",
    "from sklearn.preprocessing import Imputer, StandardScaler\n",
    "from sklearn.feature_selection import SelectFromModel\n",
    "from sklearn.model_selection import train_test_split, GridSearchCV, ShuffleSplit, RandomizedSearchCV\n",
    "from sklearn.pipeline import make_pipeline\n",
    "\n",
    "import pickle"
   ]
  },
  {
   "cell_type": "markdown",
   "metadata": {},
   "source": [
    "Reading Data from the Database into pandas"
   ]
  },
  {
   "cell_type": "code",
   "execution_count": 2,
   "metadata": {},
   "outputs": [],
   "source": [
    "cnx = sqlite3.connect('database.sqlite')"
   ]
  },
  {
   "cell_type": "code",
   "execution_count": 3,
   "metadata": {},
   "outputs": [],
   "source": [
    "df= pd.read_sql_query(\"SELECT * FROM Player_Attributes\", cnx)"
   ]
  },
  {
   "cell_type": "code",
   "execution_count": 4,
   "metadata": {},
   "outputs": [
    {
     "name": "stdout",
     "output_type": "stream",
     "text": [
      "            id  player_fifa_api_id  player_api_id                 date  \\\n",
      "0            1              218353         505942  2016-02-18 00:00:00   \n",
      "1            2              218353         505942  2015-11-19 00:00:00   \n",
      "2            3              218353         505942  2015-09-21 00:00:00   \n",
      "3            4              218353         505942  2015-03-20 00:00:00   \n",
      "4            5              218353         505942  2007-02-22 00:00:00   \n",
      "...        ...                 ...            ...                  ...   \n",
      "183973  183974              102359          39902  2009-08-30 00:00:00   \n",
      "183974  183975              102359          39902  2009-02-22 00:00:00   \n",
      "183975  183976              102359          39902  2008-08-30 00:00:00   \n",
      "183976  183977              102359          39902  2007-08-30 00:00:00   \n",
      "183977  183978              102359          39902  2007-02-22 00:00:00   \n",
      "\n",
      "        overall_rating  potential preferred_foot attacking_work_rate  \\\n",
      "0                 67.0       71.0          right              medium   \n",
      "1                 67.0       71.0          right              medium   \n",
      "2                 62.0       66.0          right              medium   \n",
      "3                 61.0       65.0          right              medium   \n",
      "4                 61.0       65.0          right              medium   \n",
      "...                ...        ...            ...                 ...   \n",
      "183973            83.0       85.0          right              medium   \n",
      "183974            78.0       80.0          right              medium   \n",
      "183975            77.0       80.0          right              medium   \n",
      "183976            78.0       81.0          right              medium   \n",
      "183977            80.0       81.0          right              medium   \n",
      "\n",
      "       defensive_work_rate  crossing  ...  vision  penalties  marking  \\\n",
      "0                   medium      49.0  ...    54.0       48.0     65.0   \n",
      "1                   medium      49.0  ...    54.0       48.0     65.0   \n",
      "2                   medium      49.0  ...    54.0       48.0     65.0   \n",
      "3                   medium      48.0  ...    53.0       47.0     62.0   \n",
      "4                   medium      48.0  ...    53.0       47.0     62.0   \n",
      "...                    ...       ...  ...     ...        ...      ...   \n",
      "183973                 low      84.0  ...    88.0       83.0     22.0   \n",
      "183974                 low      74.0  ...    88.0       70.0     32.0   \n",
      "183975                 low      74.0  ...    88.0       70.0     32.0   \n",
      "183976                 low      74.0  ...    88.0       53.0     28.0   \n",
      "183977                 low      74.0  ...    88.0       53.0     38.0   \n",
      "\n",
      "        standing_tackle  sliding_tackle  gk_diving  gk_handling  gk_kicking  \\\n",
      "0                  69.0            69.0        6.0         11.0        10.0   \n",
      "1                  69.0            69.0        6.0         11.0        10.0   \n",
      "2                  66.0            69.0        6.0         11.0        10.0   \n",
      "3                  63.0            66.0        5.0         10.0         9.0   \n",
      "4                  63.0            66.0        5.0         10.0         9.0   \n",
      "...                 ...             ...        ...          ...         ...   \n",
      "183973             31.0            30.0        9.0         20.0        84.0   \n",
      "183974             31.0            30.0        9.0         20.0        73.0   \n",
      "183975             31.0            30.0        9.0         20.0        73.0   \n",
      "183976             32.0            30.0        9.0         20.0        73.0   \n",
      "183977             32.0            30.0        9.0          9.0        78.0   \n",
      "\n",
      "        gk_positioning  gk_reflexes  \n",
      "0                  8.0          8.0  \n",
      "1                  8.0          8.0  \n",
      "2                  8.0          8.0  \n",
      "3                  7.0          7.0  \n",
      "4                  7.0          7.0  \n",
      "...                ...          ...  \n",
      "183973            20.0         20.0  \n",
      "183974            20.0         20.0  \n",
      "183975            20.0         20.0  \n",
      "183976            20.0         20.0  \n",
      "183977             7.0         15.0  \n",
      "\n",
      "[183978 rows x 42 columns]\n"
     ]
    }
   ],
   "source": [
    "print(df)"
   ]
  },
  {
   "cell_type": "code",
   "execution_count": 5,
   "metadata": {},
   "outputs": [
    {
     "data": {
      "text/html": [
       "<div>\n",
       "<style scoped>\n",
       "    .dataframe tbody tr th:only-of-type {\n",
       "        vertical-align: middle;\n",
       "    }\n",
       "\n",
       "    .dataframe tbody tr th {\n",
       "        vertical-align: top;\n",
       "    }\n",
       "\n",
       "    .dataframe thead th {\n",
       "        text-align: right;\n",
       "    }\n",
       "</style>\n",
       "<table border=\"1\" class=\"dataframe\">\n",
       "  <thead>\n",
       "    <tr style=\"text-align: right;\">\n",
       "      <th></th>\n",
       "      <th>id</th>\n",
       "      <th>player_fifa_api_id</th>\n",
       "      <th>player_api_id</th>\n",
       "      <th>date</th>\n",
       "      <th>overall_rating</th>\n",
       "      <th>potential</th>\n",
       "      <th>preferred_foot</th>\n",
       "      <th>attacking_work_rate</th>\n",
       "      <th>defensive_work_rate</th>\n",
       "      <th>crossing</th>\n",
       "      <th>...</th>\n",
       "      <th>vision</th>\n",
       "      <th>penalties</th>\n",
       "      <th>marking</th>\n",
       "      <th>standing_tackle</th>\n",
       "      <th>sliding_tackle</th>\n",
       "      <th>gk_diving</th>\n",
       "      <th>gk_handling</th>\n",
       "      <th>gk_kicking</th>\n",
       "      <th>gk_positioning</th>\n",
       "      <th>gk_reflexes</th>\n",
       "    </tr>\n",
       "  </thead>\n",
       "  <tbody>\n",
       "    <tr>\n",
       "      <th>0</th>\n",
       "      <td>1</td>\n",
       "      <td>218353</td>\n",
       "      <td>505942</td>\n",
       "      <td>2016-02-18 00:00:00</td>\n",
       "      <td>67.0</td>\n",
       "      <td>71.0</td>\n",
       "      <td>right</td>\n",
       "      <td>medium</td>\n",
       "      <td>medium</td>\n",
       "      <td>49.0</td>\n",
       "      <td>...</td>\n",
       "      <td>54.0</td>\n",
       "      <td>48.0</td>\n",
       "      <td>65.0</td>\n",
       "      <td>69.0</td>\n",
       "      <td>69.0</td>\n",
       "      <td>6.0</td>\n",
       "      <td>11.0</td>\n",
       "      <td>10.0</td>\n",
       "      <td>8.0</td>\n",
       "      <td>8.0</td>\n",
       "    </tr>\n",
       "    <tr>\n",
       "      <th>1</th>\n",
       "      <td>2</td>\n",
       "      <td>218353</td>\n",
       "      <td>505942</td>\n",
       "      <td>2015-11-19 00:00:00</td>\n",
       "      <td>67.0</td>\n",
       "      <td>71.0</td>\n",
       "      <td>right</td>\n",
       "      <td>medium</td>\n",
       "      <td>medium</td>\n",
       "      <td>49.0</td>\n",
       "      <td>...</td>\n",
       "      <td>54.0</td>\n",
       "      <td>48.0</td>\n",
       "      <td>65.0</td>\n",
       "      <td>69.0</td>\n",
       "      <td>69.0</td>\n",
       "      <td>6.0</td>\n",
       "      <td>11.0</td>\n",
       "      <td>10.0</td>\n",
       "      <td>8.0</td>\n",
       "      <td>8.0</td>\n",
       "    </tr>\n",
       "    <tr>\n",
       "      <th>2</th>\n",
       "      <td>3</td>\n",
       "      <td>218353</td>\n",
       "      <td>505942</td>\n",
       "      <td>2015-09-21 00:00:00</td>\n",
       "      <td>62.0</td>\n",
       "      <td>66.0</td>\n",
       "      <td>right</td>\n",
       "      <td>medium</td>\n",
       "      <td>medium</td>\n",
       "      <td>49.0</td>\n",
       "      <td>...</td>\n",
       "      <td>54.0</td>\n",
       "      <td>48.0</td>\n",
       "      <td>65.0</td>\n",
       "      <td>66.0</td>\n",
       "      <td>69.0</td>\n",
       "      <td>6.0</td>\n",
       "      <td>11.0</td>\n",
       "      <td>10.0</td>\n",
       "      <td>8.0</td>\n",
       "      <td>8.0</td>\n",
       "    </tr>\n",
       "    <tr>\n",
       "      <th>3</th>\n",
       "      <td>4</td>\n",
       "      <td>218353</td>\n",
       "      <td>505942</td>\n",
       "      <td>2015-03-20 00:00:00</td>\n",
       "      <td>61.0</td>\n",
       "      <td>65.0</td>\n",
       "      <td>right</td>\n",
       "      <td>medium</td>\n",
       "      <td>medium</td>\n",
       "      <td>48.0</td>\n",
       "      <td>...</td>\n",
       "      <td>53.0</td>\n",
       "      <td>47.0</td>\n",
       "      <td>62.0</td>\n",
       "      <td>63.0</td>\n",
       "      <td>66.0</td>\n",
       "      <td>5.0</td>\n",
       "      <td>10.0</td>\n",
       "      <td>9.0</td>\n",
       "      <td>7.0</td>\n",
       "      <td>7.0</td>\n",
       "    </tr>\n",
       "    <tr>\n",
       "      <th>4</th>\n",
       "      <td>5</td>\n",
       "      <td>218353</td>\n",
       "      <td>505942</td>\n",
       "      <td>2007-02-22 00:00:00</td>\n",
       "      <td>61.0</td>\n",
       "      <td>65.0</td>\n",
       "      <td>right</td>\n",
       "      <td>medium</td>\n",
       "      <td>medium</td>\n",
       "      <td>48.0</td>\n",
       "      <td>...</td>\n",
       "      <td>53.0</td>\n",
       "      <td>47.0</td>\n",
       "      <td>62.0</td>\n",
       "      <td>63.0</td>\n",
       "      <td>66.0</td>\n",
       "      <td>5.0</td>\n",
       "      <td>10.0</td>\n",
       "      <td>9.0</td>\n",
       "      <td>7.0</td>\n",
       "      <td>7.0</td>\n",
       "    </tr>\n",
       "  </tbody>\n",
       "</table>\n",
       "<p>5 rows × 42 columns</p>\n",
       "</div>"
      ],
      "text/plain": [
       "   id  player_fifa_api_id  player_api_id                 date  overall_rating  \\\n",
       "0   1              218353         505942  2016-02-18 00:00:00            67.0   \n",
       "1   2              218353         505942  2015-11-19 00:00:00            67.0   \n",
       "2   3              218353         505942  2015-09-21 00:00:00            62.0   \n",
       "3   4              218353         505942  2015-03-20 00:00:00            61.0   \n",
       "4   5              218353         505942  2007-02-22 00:00:00            61.0   \n",
       "\n",
       "   potential preferred_foot attacking_work_rate defensive_work_rate  crossing  \\\n",
       "0       71.0          right              medium              medium      49.0   \n",
       "1       71.0          right              medium              medium      49.0   \n",
       "2       66.0          right              medium              medium      49.0   \n",
       "3       65.0          right              medium              medium      48.0   \n",
       "4       65.0          right              medium              medium      48.0   \n",
       "\n",
       "   ...  vision  penalties  marking  standing_tackle  sliding_tackle  \\\n",
       "0  ...    54.0       48.0     65.0             69.0            69.0   \n",
       "1  ...    54.0       48.0     65.0             69.0            69.0   \n",
       "2  ...    54.0       48.0     65.0             66.0            69.0   \n",
       "3  ...    53.0       47.0     62.0             63.0            66.0   \n",
       "4  ...    53.0       47.0     62.0             63.0            66.0   \n",
       "\n",
       "   gk_diving  gk_handling  gk_kicking  gk_positioning  gk_reflexes  \n",
       "0        6.0         11.0        10.0             8.0          8.0  \n",
       "1        6.0         11.0        10.0             8.0          8.0  \n",
       "2        6.0         11.0        10.0             8.0          8.0  \n",
       "3        5.0         10.0         9.0             7.0          7.0  \n",
       "4        5.0         10.0         9.0             7.0          7.0  \n",
       "\n",
       "[5 rows x 42 columns]"
      ]
     },
     "execution_count": 5,
     "metadata": {},
     "output_type": "execute_result"
    }
   ],
   "source": [
    "df.head()"
   ]
  },
  {
   "cell_type": "markdown",
   "metadata": {},
   "source": [
    "Creating Target variable:"
   ]
  },
  {
   "cell_type": "code",
   "execution_count": 6,
   "metadata": {},
   "outputs": [],
   "source": [
    "target = df.pop('overall_rating')"
   ]
  },
  {
   "cell_type": "code",
   "execution_count": 7,
   "metadata": {},
   "outputs": [
    {
     "data": {
      "text/plain": [
       "(183978, 41)"
      ]
     },
     "execution_count": 7,
     "metadata": {},
     "output_type": "execute_result"
    }
   ],
   "source": [
    "df.shape"
   ]
  },
  {
   "cell_type": "code",
   "execution_count": 8,
   "metadata": {},
   "outputs": [
    {
     "data": {
      "text/plain": [
       "0    67.0\n",
       "1    67.0\n",
       "2    62.0\n",
       "3    61.0\n",
       "4    61.0\n",
       "Name: overall_rating, dtype: float64"
      ]
     },
     "execution_count": 8,
     "metadata": {},
     "output_type": "execute_result"
    }
   ],
   "source": [
    "target.head()"
   ]
  },
  {
   "cell_type": "markdown",
   "metadata": {},
   "source": [
    "Imputing target funtion :"
   ]
  },
  {
   "cell_type": "code",
   "execution_count": 9,
   "metadata": {},
   "outputs": [
    {
     "data": {
      "text/plain": [
       "836"
      ]
     },
     "execution_count": 9,
     "metadata": {},
     "output_type": "execute_result"
    }
   ],
   "source": [
    "target.isnull().values.sum()"
   ]
  },
  {
   "cell_type": "code",
   "execution_count": 10,
   "metadata": {},
   "outputs": [
    {
     "data": {
      "text/plain": [
       "count    183142.000000\n",
       "mean         68.600015\n",
       "std           7.041139\n",
       "min          33.000000\n",
       "25%          64.000000\n",
       "50%          69.000000\n",
       "75%          73.000000\n",
       "max          94.000000\n",
       "Name: overall_rating, dtype: float64"
      ]
     },
     "execution_count": 10,
     "metadata": {},
     "output_type": "execute_result"
    }
   ],
   "source": [
    "target.describe()"
   ]
  },
  {
   "cell_type": "code",
   "execution_count": 11,
   "metadata": {},
   "outputs": [
    {
     "data": {
      "application/javascript": [
       "/* Put everything inside the global mpl namespace */\n",
       "window.mpl = {};\n",
       "\n",
       "\n",
       "mpl.get_websocket_type = function() {\n",
       "    if (typeof(WebSocket) !== 'undefined') {\n",
       "        return WebSocket;\n",
       "    } else if (typeof(MozWebSocket) !== 'undefined') {\n",
       "        return MozWebSocket;\n",
       "    } else {\n",
       "        alert('Your browser does not have WebSocket support. ' +\n",
       "              'Please try Chrome, Safari or Firefox ≥ 6. ' +\n",
       "              'Firefox 4 and 5 are also supported but you ' +\n",
       "              'have to enable WebSockets in about:config.');\n",
       "    };\n",
       "}\n",
       "\n",
       "mpl.figure = function(figure_id, websocket, ondownload, parent_element) {\n",
       "    this.id = figure_id;\n",
       "\n",
       "    this.ws = websocket;\n",
       "\n",
       "    this.supports_binary = (this.ws.binaryType != undefined);\n",
       "\n",
       "    if (!this.supports_binary) {\n",
       "        var warnings = document.getElementById(\"mpl-warnings\");\n",
       "        if (warnings) {\n",
       "            warnings.style.display = 'block';\n",
       "            warnings.textContent = (\n",
       "                \"This browser does not support binary websocket messages. \" +\n",
       "                    \"Performance may be slow.\");\n",
       "        }\n",
       "    }\n",
       "\n",
       "    this.imageObj = new Image();\n",
       "\n",
       "    this.context = undefined;\n",
       "    this.message = undefined;\n",
       "    this.canvas = undefined;\n",
       "    this.rubberband_canvas = undefined;\n",
       "    this.rubberband_context = undefined;\n",
       "    this.format_dropdown = undefined;\n",
       "\n",
       "    this.image_mode = 'full';\n",
       "\n",
       "    this.root = $('<div/>');\n",
       "    this._root_extra_style(this.root)\n",
       "    this.root.attr('style', 'display: inline-block');\n",
       "\n",
       "    $(parent_element).append(this.root);\n",
       "\n",
       "    this._init_header(this);\n",
       "    this._init_canvas(this);\n",
       "    this._init_toolbar(this);\n",
       "\n",
       "    var fig = this;\n",
       "\n",
       "    this.waiting = false;\n",
       "\n",
       "    this.ws.onopen =  function () {\n",
       "            fig.send_message(\"supports_binary\", {value: fig.supports_binary});\n",
       "            fig.send_message(\"send_image_mode\", {});\n",
       "            if (mpl.ratio != 1) {\n",
       "                fig.send_message(\"set_dpi_ratio\", {'dpi_ratio': mpl.ratio});\n",
       "            }\n",
       "            fig.send_message(\"refresh\", {});\n",
       "        }\n",
       "\n",
       "    this.imageObj.onload = function() {\n",
       "            if (fig.image_mode == 'full') {\n",
       "                // Full images could contain transparency (where diff images\n",
       "                // almost always do), so we need to clear the canvas so that\n",
       "                // there is no ghosting.\n",
       "                fig.context.clearRect(0, 0, fig.canvas.width, fig.canvas.height);\n",
       "            }\n",
       "            fig.context.drawImage(fig.imageObj, 0, 0);\n",
       "        };\n",
       "\n",
       "    this.imageObj.onunload = function() {\n",
       "        fig.ws.close();\n",
       "    }\n",
       "\n",
       "    this.ws.onmessage = this._make_on_message_function(this);\n",
       "\n",
       "    this.ondownload = ondownload;\n",
       "}\n",
       "\n",
       "mpl.figure.prototype._init_header = function() {\n",
       "    var titlebar = $(\n",
       "        '<div class=\"ui-dialog-titlebar ui-widget-header ui-corner-all ' +\n",
       "        'ui-helper-clearfix\"/>');\n",
       "    var titletext = $(\n",
       "        '<div class=\"ui-dialog-title\" style=\"width: 100%; ' +\n",
       "        'text-align: center; padding: 3px;\"/>');\n",
       "    titlebar.append(titletext)\n",
       "    this.root.append(titlebar);\n",
       "    this.header = titletext[0];\n",
       "}\n",
       "\n",
       "\n",
       "\n",
       "mpl.figure.prototype._canvas_extra_style = function(canvas_div) {\n",
       "\n",
       "}\n",
       "\n",
       "\n",
       "mpl.figure.prototype._root_extra_style = function(canvas_div) {\n",
       "\n",
       "}\n",
       "\n",
       "mpl.figure.prototype._init_canvas = function() {\n",
       "    var fig = this;\n",
       "\n",
       "    var canvas_div = $('<div/>');\n",
       "\n",
       "    canvas_div.attr('style', 'position: relative; clear: both; outline: 0');\n",
       "\n",
       "    function canvas_keyboard_event(event) {\n",
       "        return fig.key_event(event, event['data']);\n",
       "    }\n",
       "\n",
       "    canvas_div.keydown('key_press', canvas_keyboard_event);\n",
       "    canvas_div.keyup('key_release', canvas_keyboard_event);\n",
       "    this.canvas_div = canvas_div\n",
       "    this._canvas_extra_style(canvas_div)\n",
       "    this.root.append(canvas_div);\n",
       "\n",
       "    var canvas = $('<canvas/>');\n",
       "    canvas.addClass('mpl-canvas');\n",
       "    canvas.attr('style', \"left: 0; top: 0; z-index: 0; outline: 0\")\n",
       "\n",
       "    this.canvas = canvas[0];\n",
       "    this.context = canvas[0].getContext(\"2d\");\n",
       "\n",
       "    var backingStore = this.context.backingStorePixelRatio ||\n",
       "\tthis.context.webkitBackingStorePixelRatio ||\n",
       "\tthis.context.mozBackingStorePixelRatio ||\n",
       "\tthis.context.msBackingStorePixelRatio ||\n",
       "\tthis.context.oBackingStorePixelRatio ||\n",
       "\tthis.context.backingStorePixelRatio || 1;\n",
       "\n",
       "    mpl.ratio = (window.devicePixelRatio || 1) / backingStore;\n",
       "\n",
       "    var rubberband = $('<canvas/>');\n",
       "    rubberband.attr('style', \"position: absolute; left: 0; top: 0; z-index: 1;\")\n",
       "\n",
       "    var pass_mouse_events = true;\n",
       "\n",
       "    canvas_div.resizable({\n",
       "        start: function(event, ui) {\n",
       "            pass_mouse_events = false;\n",
       "        },\n",
       "        resize: function(event, ui) {\n",
       "            fig.request_resize(ui.size.width, ui.size.height);\n",
       "        },\n",
       "        stop: function(event, ui) {\n",
       "            pass_mouse_events = true;\n",
       "            fig.request_resize(ui.size.width, ui.size.height);\n",
       "        },\n",
       "    });\n",
       "\n",
       "    function mouse_event_fn(event) {\n",
       "        if (pass_mouse_events)\n",
       "            return fig.mouse_event(event, event['data']);\n",
       "    }\n",
       "\n",
       "    rubberband.mousedown('button_press', mouse_event_fn);\n",
       "    rubberband.mouseup('button_release', mouse_event_fn);\n",
       "    // Throttle sequential mouse events to 1 every 20ms.\n",
       "    rubberband.mousemove('motion_notify', mouse_event_fn);\n",
       "\n",
       "    rubberband.mouseenter('figure_enter', mouse_event_fn);\n",
       "    rubberband.mouseleave('figure_leave', mouse_event_fn);\n",
       "\n",
       "    canvas_div.on(\"wheel\", function (event) {\n",
       "        event = event.originalEvent;\n",
       "        event['data'] = 'scroll'\n",
       "        if (event.deltaY < 0) {\n",
       "            event.step = 1;\n",
       "        } else {\n",
       "            event.step = -1;\n",
       "        }\n",
       "        mouse_event_fn(event);\n",
       "    });\n",
       "\n",
       "    canvas_div.append(canvas);\n",
       "    canvas_div.append(rubberband);\n",
       "\n",
       "    this.rubberband = rubberband;\n",
       "    this.rubberband_canvas = rubberband[0];\n",
       "    this.rubberband_context = rubberband[0].getContext(\"2d\");\n",
       "    this.rubberband_context.strokeStyle = \"#000000\";\n",
       "\n",
       "    this._resize_canvas = function(width, height) {\n",
       "        // Keep the size of the canvas, canvas container, and rubber band\n",
       "        // canvas in synch.\n",
       "        canvas_div.css('width', width)\n",
       "        canvas_div.css('height', height)\n",
       "\n",
       "        canvas.attr('width', width * mpl.ratio);\n",
       "        canvas.attr('height', height * mpl.ratio);\n",
       "        canvas.attr('style', 'width: ' + width + 'px; height: ' + height + 'px;');\n",
       "\n",
       "        rubberband.attr('width', width);\n",
       "        rubberband.attr('height', height);\n",
       "    }\n",
       "\n",
       "    // Set the figure to an initial 600x600px, this will subsequently be updated\n",
       "    // upon first draw.\n",
       "    this._resize_canvas(600, 600);\n",
       "\n",
       "    // Disable right mouse context menu.\n",
       "    $(this.rubberband_canvas).bind(\"contextmenu\",function(e){\n",
       "        return false;\n",
       "    });\n",
       "\n",
       "    function set_focus () {\n",
       "        canvas.focus();\n",
       "        canvas_div.focus();\n",
       "    }\n",
       "\n",
       "    window.setTimeout(set_focus, 100);\n",
       "}\n",
       "\n",
       "mpl.figure.prototype._init_toolbar = function() {\n",
       "    var fig = this;\n",
       "\n",
       "    var nav_element = $('<div/>');\n",
       "    nav_element.attr('style', 'width: 100%');\n",
       "    this.root.append(nav_element);\n",
       "\n",
       "    // Define a callback function for later on.\n",
       "    function toolbar_event(event) {\n",
       "        return fig.toolbar_button_onclick(event['data']);\n",
       "    }\n",
       "    function toolbar_mouse_event(event) {\n",
       "        return fig.toolbar_button_onmouseover(event['data']);\n",
       "    }\n",
       "\n",
       "    for(var toolbar_ind in mpl.toolbar_items) {\n",
       "        var name = mpl.toolbar_items[toolbar_ind][0];\n",
       "        var tooltip = mpl.toolbar_items[toolbar_ind][1];\n",
       "        var image = mpl.toolbar_items[toolbar_ind][2];\n",
       "        var method_name = mpl.toolbar_items[toolbar_ind][3];\n",
       "\n",
       "        if (!name) {\n",
       "            // put a spacer in here.\n",
       "            continue;\n",
       "        }\n",
       "        var button = $('<button/>');\n",
       "        button.addClass('ui-button ui-widget ui-state-default ui-corner-all ' +\n",
       "                        'ui-button-icon-only');\n",
       "        button.attr('role', 'button');\n",
       "        button.attr('aria-disabled', 'false');\n",
       "        button.click(method_name, toolbar_event);\n",
       "        button.mouseover(tooltip, toolbar_mouse_event);\n",
       "\n",
       "        var icon_img = $('<span/>');\n",
       "        icon_img.addClass('ui-button-icon-primary ui-icon');\n",
       "        icon_img.addClass(image);\n",
       "        icon_img.addClass('ui-corner-all');\n",
       "\n",
       "        var tooltip_span = $('<span/>');\n",
       "        tooltip_span.addClass('ui-button-text');\n",
       "        tooltip_span.html(tooltip);\n",
       "\n",
       "        button.append(icon_img);\n",
       "        button.append(tooltip_span);\n",
       "\n",
       "        nav_element.append(button);\n",
       "    }\n",
       "\n",
       "    var fmt_picker_span = $('<span/>');\n",
       "\n",
       "    var fmt_picker = $('<select/>');\n",
       "    fmt_picker.addClass('mpl-toolbar-option ui-widget ui-widget-content');\n",
       "    fmt_picker_span.append(fmt_picker);\n",
       "    nav_element.append(fmt_picker_span);\n",
       "    this.format_dropdown = fmt_picker[0];\n",
       "\n",
       "    for (var ind in mpl.extensions) {\n",
       "        var fmt = mpl.extensions[ind];\n",
       "        var option = $(\n",
       "            '<option/>', {selected: fmt === mpl.default_extension}).html(fmt);\n",
       "        fmt_picker.append(option);\n",
       "    }\n",
       "\n",
       "    // Add hover states to the ui-buttons\n",
       "    $( \".ui-button\" ).hover(\n",
       "        function() { $(this).addClass(\"ui-state-hover\");},\n",
       "        function() { $(this).removeClass(\"ui-state-hover\");}\n",
       "    );\n",
       "\n",
       "    var status_bar = $('<span class=\"mpl-message\"/>');\n",
       "    nav_element.append(status_bar);\n",
       "    this.message = status_bar[0];\n",
       "}\n",
       "\n",
       "mpl.figure.prototype.request_resize = function(x_pixels, y_pixels) {\n",
       "    // Request matplotlib to resize the figure. Matplotlib will then trigger a resize in the client,\n",
       "    // which will in turn request a refresh of the image.\n",
       "    this.send_message('resize', {'width': x_pixels, 'height': y_pixels});\n",
       "}\n",
       "\n",
       "mpl.figure.prototype.send_message = function(type, properties) {\n",
       "    properties['type'] = type;\n",
       "    properties['figure_id'] = this.id;\n",
       "    this.ws.send(JSON.stringify(properties));\n",
       "}\n",
       "\n",
       "mpl.figure.prototype.send_draw_message = function() {\n",
       "    if (!this.waiting) {\n",
       "        this.waiting = true;\n",
       "        this.ws.send(JSON.stringify({type: \"draw\", figure_id: this.id}));\n",
       "    }\n",
       "}\n",
       "\n",
       "\n",
       "mpl.figure.prototype.handle_save = function(fig, msg) {\n",
       "    var format_dropdown = fig.format_dropdown;\n",
       "    var format = format_dropdown.options[format_dropdown.selectedIndex].value;\n",
       "    fig.ondownload(fig, format);\n",
       "}\n",
       "\n",
       "\n",
       "mpl.figure.prototype.handle_resize = function(fig, msg) {\n",
       "    var size = msg['size'];\n",
       "    if (size[0] != fig.canvas.width || size[1] != fig.canvas.height) {\n",
       "        fig._resize_canvas(size[0], size[1]);\n",
       "        fig.send_message(\"refresh\", {});\n",
       "    };\n",
       "}\n",
       "\n",
       "mpl.figure.prototype.handle_rubberband = function(fig, msg) {\n",
       "    var x0 = msg['x0'] / mpl.ratio;\n",
       "    var y0 = (fig.canvas.height - msg['y0']) / mpl.ratio;\n",
       "    var x1 = msg['x1'] / mpl.ratio;\n",
       "    var y1 = (fig.canvas.height - msg['y1']) / mpl.ratio;\n",
       "    x0 = Math.floor(x0) + 0.5;\n",
       "    y0 = Math.floor(y0) + 0.5;\n",
       "    x1 = Math.floor(x1) + 0.5;\n",
       "    y1 = Math.floor(y1) + 0.5;\n",
       "    var min_x = Math.min(x0, x1);\n",
       "    var min_y = Math.min(y0, y1);\n",
       "    var width = Math.abs(x1 - x0);\n",
       "    var height = Math.abs(y1 - y0);\n",
       "\n",
       "    fig.rubberband_context.clearRect(\n",
       "        0, 0, fig.canvas.width / mpl.ratio, fig.canvas.height / mpl.ratio);\n",
       "\n",
       "    fig.rubberband_context.strokeRect(min_x, min_y, width, height);\n",
       "}\n",
       "\n",
       "mpl.figure.prototype.handle_figure_label = function(fig, msg) {\n",
       "    // Updates the figure title.\n",
       "    fig.header.textContent = msg['label'];\n",
       "}\n",
       "\n",
       "mpl.figure.prototype.handle_cursor = function(fig, msg) {\n",
       "    var cursor = msg['cursor'];\n",
       "    switch(cursor)\n",
       "    {\n",
       "    case 0:\n",
       "        cursor = 'pointer';\n",
       "        break;\n",
       "    case 1:\n",
       "        cursor = 'default';\n",
       "        break;\n",
       "    case 2:\n",
       "        cursor = 'crosshair';\n",
       "        break;\n",
       "    case 3:\n",
       "        cursor = 'move';\n",
       "        break;\n",
       "    }\n",
       "    fig.rubberband_canvas.style.cursor = cursor;\n",
       "}\n",
       "\n",
       "mpl.figure.prototype.handle_message = function(fig, msg) {\n",
       "    fig.message.textContent = msg['message'];\n",
       "}\n",
       "\n",
       "mpl.figure.prototype.handle_draw = function(fig, msg) {\n",
       "    // Request the server to send over a new figure.\n",
       "    fig.send_draw_message();\n",
       "}\n",
       "\n",
       "mpl.figure.prototype.handle_image_mode = function(fig, msg) {\n",
       "    fig.image_mode = msg['mode'];\n",
       "}\n",
       "\n",
       "mpl.figure.prototype.updated_canvas_event = function() {\n",
       "    // Called whenever the canvas gets updated.\n",
       "    this.send_message(\"ack\", {});\n",
       "}\n",
       "\n",
       "// A function to construct a web socket function for onmessage handling.\n",
       "// Called in the figure constructor.\n",
       "mpl.figure.prototype._make_on_message_function = function(fig) {\n",
       "    return function socket_on_message(evt) {\n",
       "        if (evt.data instanceof Blob) {\n",
       "            /* FIXME: We get \"Resource interpreted as Image but\n",
       "             * transferred with MIME type text/plain:\" errors on\n",
       "             * Chrome.  But how to set the MIME type?  It doesn't seem\n",
       "             * to be part of the websocket stream */\n",
       "            evt.data.type = \"image/png\";\n",
       "\n",
       "            /* Free the memory for the previous frames */\n",
       "            if (fig.imageObj.src) {\n",
       "                (window.URL || window.webkitURL).revokeObjectURL(\n",
       "                    fig.imageObj.src);\n",
       "            }\n",
       "\n",
       "            fig.imageObj.src = (window.URL || window.webkitURL).createObjectURL(\n",
       "                evt.data);\n",
       "            fig.updated_canvas_event();\n",
       "            fig.waiting = false;\n",
       "            return;\n",
       "        }\n",
       "        else if (typeof evt.data === 'string' && evt.data.slice(0, 21) == \"data:image/png;base64\") {\n",
       "            fig.imageObj.src = evt.data;\n",
       "            fig.updated_canvas_event();\n",
       "            fig.waiting = false;\n",
       "            return;\n",
       "        }\n",
       "\n",
       "        var msg = JSON.parse(evt.data);\n",
       "        var msg_type = msg['type'];\n",
       "\n",
       "        // Call the  \"handle_{type}\" callback, which takes\n",
       "        // the figure and JSON message as its only arguments.\n",
       "        try {\n",
       "            var callback = fig[\"handle_\" + msg_type];\n",
       "        } catch (e) {\n",
       "            console.log(\"No handler for the '\" + msg_type + \"' message type: \", msg);\n",
       "            return;\n",
       "        }\n",
       "\n",
       "        if (callback) {\n",
       "            try {\n",
       "                // console.log(\"Handling '\" + msg_type + \"' message: \", msg);\n",
       "                callback(fig, msg);\n",
       "            } catch (e) {\n",
       "                console.log(\"Exception inside the 'handler_\" + msg_type + \"' callback:\", e, e.stack, msg);\n",
       "            }\n",
       "        }\n",
       "    };\n",
       "}\n",
       "\n",
       "// from http://stackoverflow.com/questions/1114465/getting-mouse-location-in-canvas\n",
       "mpl.findpos = function(e) {\n",
       "    //this section is from http://www.quirksmode.org/js/events_properties.html\n",
       "    var targ;\n",
       "    if (!e)\n",
       "        e = window.event;\n",
       "    if (e.target)\n",
       "        targ = e.target;\n",
       "    else if (e.srcElement)\n",
       "        targ = e.srcElement;\n",
       "    if (targ.nodeType == 3) // defeat Safari bug\n",
       "        targ = targ.parentNode;\n",
       "\n",
       "    // jQuery normalizes the pageX and pageY\n",
       "    // pageX,Y are the mouse positions relative to the document\n",
       "    // offset() returns the position of the element relative to the document\n",
       "    var x = e.pageX - $(targ).offset().left;\n",
       "    var y = e.pageY - $(targ).offset().top;\n",
       "\n",
       "    return {\"x\": x, \"y\": y};\n",
       "};\n",
       "\n",
       "/*\n",
       " * return a copy of an object with only non-object keys\n",
       " * we need this to avoid circular references\n",
       " * http://stackoverflow.com/a/24161582/3208463\n",
       " */\n",
       "function simpleKeys (original) {\n",
       "  return Object.keys(original).reduce(function (obj, key) {\n",
       "    if (typeof original[key] !== 'object')\n",
       "        obj[key] = original[key]\n",
       "    return obj;\n",
       "  }, {});\n",
       "}\n",
       "\n",
       "mpl.figure.prototype.mouse_event = function(event, name) {\n",
       "    var canvas_pos = mpl.findpos(event)\n",
       "\n",
       "    if (name === 'button_press')\n",
       "    {\n",
       "        this.canvas.focus();\n",
       "        this.canvas_div.focus();\n",
       "    }\n",
       "\n",
       "    var x = canvas_pos.x * mpl.ratio;\n",
       "    var y = canvas_pos.y * mpl.ratio;\n",
       "\n",
       "    this.send_message(name, {x: x, y: y, button: event.button,\n",
       "                             step: event.step,\n",
       "                             guiEvent: simpleKeys(event)});\n",
       "\n",
       "    /* This prevents the web browser from automatically changing to\n",
       "     * the text insertion cursor when the button is pressed.  We want\n",
       "     * to control all of the cursor setting manually through the\n",
       "     * 'cursor' event from matplotlib */\n",
       "    event.preventDefault();\n",
       "    return false;\n",
       "}\n",
       "\n",
       "mpl.figure.prototype._key_event_extra = function(event, name) {\n",
       "    // Handle any extra behaviour associated with a key event\n",
       "}\n",
       "\n",
       "mpl.figure.prototype.key_event = function(event, name) {\n",
       "\n",
       "    // Prevent repeat events\n",
       "    if (name == 'key_press')\n",
       "    {\n",
       "        if (event.which === this._key)\n",
       "            return;\n",
       "        else\n",
       "            this._key = event.which;\n",
       "    }\n",
       "    if (name == 'key_release')\n",
       "        this._key = null;\n",
       "\n",
       "    var value = '';\n",
       "    if (event.ctrlKey && event.which != 17)\n",
       "        value += \"ctrl+\";\n",
       "    if (event.altKey && event.which != 18)\n",
       "        value += \"alt+\";\n",
       "    if (event.shiftKey && event.which != 16)\n",
       "        value += \"shift+\";\n",
       "\n",
       "    value += 'k';\n",
       "    value += event.which.toString();\n",
       "\n",
       "    this._key_event_extra(event, name);\n",
       "\n",
       "    this.send_message(name, {key: value,\n",
       "                             guiEvent: simpleKeys(event)});\n",
       "    return false;\n",
       "}\n",
       "\n",
       "mpl.figure.prototype.toolbar_button_onclick = function(name) {\n",
       "    if (name == 'download') {\n",
       "        this.handle_save(this, null);\n",
       "    } else {\n",
       "        this.send_message(\"toolbar_button\", {name: name});\n",
       "    }\n",
       "};\n",
       "\n",
       "mpl.figure.prototype.toolbar_button_onmouseover = function(tooltip) {\n",
       "    this.message.textContent = tooltip;\n",
       "};\n",
       "mpl.toolbar_items = [[\"Home\", \"Reset original view\", \"fa fa-home icon-home\", \"home\"], [\"Back\", \"Back to previous view\", \"fa fa-arrow-left icon-arrow-left\", \"back\"], [\"Forward\", \"Forward to next view\", \"fa fa-arrow-right icon-arrow-right\", \"forward\"], [\"\", \"\", \"\", \"\"], [\"Pan\", \"Pan axes with left mouse, zoom with right\", \"fa fa-arrows icon-move\", \"pan\"], [\"Zoom\", \"Zoom to rectangle\", \"fa fa-square-o icon-check-empty\", \"zoom\"], [\"\", \"\", \"\", \"\"], [\"Download\", \"Download plot\", \"fa fa-floppy-o icon-save\", \"download\"]];\n",
       "\n",
       "mpl.extensions = [\"eps\", \"jpeg\", \"pdf\", \"png\", \"ps\", \"raw\", \"svg\", \"tif\"];\n",
       "\n",
       "mpl.default_extension = \"png\";var comm_websocket_adapter = function(comm) {\n",
       "    // Create a \"websocket\"-like object which calls the given IPython comm\n",
       "    // object with the appropriate methods. Currently this is a non binary\n",
       "    // socket, so there is still some room for performance tuning.\n",
       "    var ws = {};\n",
       "\n",
       "    ws.close = function() {\n",
       "        comm.close()\n",
       "    };\n",
       "    ws.send = function(m) {\n",
       "        //console.log('sending', m);\n",
       "        comm.send(m);\n",
       "    };\n",
       "    // Register the callback with on_msg.\n",
       "    comm.on_msg(function(msg) {\n",
       "        //console.log('receiving', msg['content']['data'], msg);\n",
       "        // Pass the mpl event to the overridden (by mpl) onmessage function.\n",
       "        ws.onmessage(msg['content']['data'])\n",
       "    });\n",
       "    return ws;\n",
       "}\n",
       "\n",
       "mpl.mpl_figure_comm = function(comm, msg) {\n",
       "    // This is the function which gets called when the mpl process\n",
       "    // starts-up an IPython Comm through the \"matplotlib\" channel.\n",
       "\n",
       "    var id = msg.content.data.id;\n",
       "    // Get hold of the div created by the display call when the Comm\n",
       "    // socket was opened in Python.\n",
       "    var element = $(\"#\" + id);\n",
       "    var ws_proxy = comm_websocket_adapter(comm)\n",
       "\n",
       "    function ondownload(figure, format) {\n",
       "        window.open(figure.imageObj.src);\n",
       "    }\n",
       "\n",
       "    var fig = new mpl.figure(id, ws_proxy,\n",
       "                           ondownload,\n",
       "                           element.get(0));\n",
       "\n",
       "    // Call onopen now - mpl needs it, as it is assuming we've passed it a real\n",
       "    // web socket which is closed, not our websocket->open comm proxy.\n",
       "    ws_proxy.onopen();\n",
       "\n",
       "    fig.parent_element = element.get(0);\n",
       "    fig.cell_info = mpl.find_output_cell(\"<div id='\" + id + \"'></div>\");\n",
       "    if (!fig.cell_info) {\n",
       "        console.error(\"Failed to find cell for figure\", id, fig);\n",
       "        return;\n",
       "    }\n",
       "\n",
       "    var output_index = fig.cell_info[2]\n",
       "    var cell = fig.cell_info[0];\n",
       "\n",
       "};\n",
       "\n",
       "mpl.figure.prototype.handle_close = function(fig, msg) {\n",
       "    var width = fig.canvas.width/mpl.ratio\n",
       "    fig.root.unbind('remove')\n",
       "\n",
       "    // Update the output cell to use the data from the current canvas.\n",
       "    fig.push_to_output();\n",
       "    var dataURL = fig.canvas.toDataURL();\n",
       "    // Re-enable the keyboard manager in IPython - without this line, in FF,\n",
       "    // the notebook keyboard shortcuts fail.\n",
       "    IPython.keyboard_manager.enable()\n",
       "    $(fig.parent_element).html('<img src=\"' + dataURL + '\" width=\"' + width + '\">');\n",
       "    fig.close_ws(fig, msg);\n",
       "}\n",
       "\n",
       "mpl.figure.prototype.close_ws = function(fig, msg){\n",
       "    fig.send_message('closing', msg);\n",
       "    // fig.ws.close()\n",
       "}\n",
       "\n",
       "mpl.figure.prototype.push_to_output = function(remove_interactive) {\n",
       "    // Turn the data on the canvas into data in the output cell.\n",
       "    var width = this.canvas.width/mpl.ratio\n",
       "    var dataURL = this.canvas.toDataURL();\n",
       "    this.cell_info[1]['text/html'] = '<img src=\"' + dataURL + '\" width=\"' + width + '\">';\n",
       "}\n",
       "\n",
       "mpl.figure.prototype.updated_canvas_event = function() {\n",
       "    // Tell IPython that the notebook contents must change.\n",
       "    IPython.notebook.set_dirty(true);\n",
       "    this.send_message(\"ack\", {});\n",
       "    var fig = this;\n",
       "    // Wait a second, then push the new image to the DOM so\n",
       "    // that it is saved nicely (might be nice to debounce this).\n",
       "    setTimeout(function () { fig.push_to_output() }, 1000);\n",
       "}\n",
       "\n",
       "mpl.figure.prototype._init_toolbar = function() {\n",
       "    var fig = this;\n",
       "\n",
       "    var nav_element = $('<div/>');\n",
       "    nav_element.attr('style', 'width: 100%');\n",
       "    this.root.append(nav_element);\n",
       "\n",
       "    // Define a callback function for later on.\n",
       "    function toolbar_event(event) {\n",
       "        return fig.toolbar_button_onclick(event['data']);\n",
       "    }\n",
       "    function toolbar_mouse_event(event) {\n",
       "        return fig.toolbar_button_onmouseover(event['data']);\n",
       "    }\n",
       "\n",
       "    for(var toolbar_ind in mpl.toolbar_items){\n",
       "        var name = mpl.toolbar_items[toolbar_ind][0];\n",
       "        var tooltip = mpl.toolbar_items[toolbar_ind][1];\n",
       "        var image = mpl.toolbar_items[toolbar_ind][2];\n",
       "        var method_name = mpl.toolbar_items[toolbar_ind][3];\n",
       "\n",
       "        if (!name) { continue; };\n",
       "\n",
       "        var button = $('<button class=\"btn btn-default\" href=\"#\" title=\"' + name + '\"><i class=\"fa ' + image + ' fa-lg\"></i></button>');\n",
       "        button.click(method_name, toolbar_event);\n",
       "        button.mouseover(tooltip, toolbar_mouse_event);\n",
       "        nav_element.append(button);\n",
       "    }\n",
       "\n",
       "    // Add the status bar.\n",
       "    var status_bar = $('<span class=\"mpl-message\" style=\"text-align:right; float: right;\"/>');\n",
       "    nav_element.append(status_bar);\n",
       "    this.message = status_bar[0];\n",
       "\n",
       "    // Add the close button to the window.\n",
       "    var buttongrp = $('<div class=\"btn-group inline pull-right\"></div>');\n",
       "    var button = $('<button class=\"btn btn-mini btn-primary\" href=\"#\" title=\"Stop Interaction\"><i class=\"fa fa-power-off icon-remove icon-large\"></i></button>');\n",
       "    button.click(function (evt) { fig.handle_close(fig, {}); } );\n",
       "    button.mouseover('Stop Interaction', toolbar_mouse_event);\n",
       "    buttongrp.append(button);\n",
       "    var titlebar = this.root.find($('.ui-dialog-titlebar'));\n",
       "    titlebar.prepend(buttongrp);\n",
       "}\n",
       "\n",
       "mpl.figure.prototype._root_extra_style = function(el){\n",
       "    var fig = this\n",
       "    el.on(\"remove\", function(){\n",
       "\tfig.close_ws(fig, {});\n",
       "    });\n",
       "}\n",
       "\n",
       "mpl.figure.prototype._canvas_extra_style = function(el){\n",
       "    // this is important to make the div 'focusable\n",
       "    el.attr('tabindex', 0)\n",
       "    // reach out to IPython and tell the keyboard manager to turn it's self\n",
       "    // off when our div gets focus\n",
       "\n",
       "    // location in version 3\n",
       "    if (IPython.notebook.keyboard_manager) {\n",
       "        IPython.notebook.keyboard_manager.register_events(el);\n",
       "    }\n",
       "    else {\n",
       "        // location in version 2\n",
       "        IPython.keyboard_manager.register_events(el);\n",
       "    }\n",
       "\n",
       "}\n",
       "\n",
       "mpl.figure.prototype._key_event_extra = function(event, name) {\n",
       "    var manager = IPython.notebook.keyboard_manager;\n",
       "    if (!manager)\n",
       "        manager = IPython.keyboard_manager;\n",
       "\n",
       "    // Check for shift+enter\n",
       "    if (event.shiftKey && event.which == 13) {\n",
       "        this.canvas_div.blur();\n",
       "        // select the cell after this one\n",
       "        var index = IPython.notebook.find_cell_index(this.cell_info[0]);\n",
       "        IPython.notebook.select(index + 1);\n",
       "    }\n",
       "}\n",
       "\n",
       "mpl.figure.prototype.handle_save = function(fig, msg) {\n",
       "    fig.ondownload(fig, null);\n",
       "}\n",
       "\n",
       "\n",
       "mpl.find_output_cell = function(html_output) {\n",
       "    // Return the cell and output element which can be found *uniquely* in the notebook.\n",
       "    // Note - this is a bit hacky, but it is done because the \"notebook_saving.Notebook\"\n",
       "    // IPython event is triggered only after the cells have been serialised, which for\n",
       "    // our purposes (turning an active figure into a static one), is too late.\n",
       "    var cells = IPython.notebook.get_cells();\n",
       "    var ncells = cells.length;\n",
       "    for (var i=0; i<ncells; i++) {\n",
       "        var cell = cells[i];\n",
       "        if (cell.cell_type === 'code'){\n",
       "            for (var j=0; j<cell.output_area.outputs.length; j++) {\n",
       "                var data = cell.output_area.outputs[j];\n",
       "                if (data.data) {\n",
       "                    // IPython >= 3 moved mimebundle to data attribute of output\n",
       "                    data = data.data;\n",
       "                }\n",
       "                if (data['text/html'] == html_output) {\n",
       "                    return [cell, data, j];\n",
       "                }\n",
       "            }\n",
       "        }\n",
       "    }\n",
       "}\n",
       "\n",
       "// Register the function which deals with the matplotlib target/channel.\n",
       "// The kernel may be null if the page has been refreshed.\n",
       "if (IPython.notebook.kernel != null) {\n",
       "    IPython.notebook.kernel.comm_manager.register_target('matplotlib', mpl.mpl_figure_comm);\n",
       "}\n"
      ],
      "text/plain": [
       "<IPython.core.display.Javascript object>"
      ]
     },
     "metadata": {},
     "output_type": "display_data"
    },
    {
     "data": {
      "text/html": [
       "<img src=\"data:image/png;base64,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\" width=\"640\">"
      ],
      "text/plain": [
       "<IPython.core.display.HTML object>"
      ]
     },
     "metadata": {},
     "output_type": "display_data"
    },
    {
     "name": "stderr",
     "output_type": "stream",
     "text": [
      "C:\\ProgramData\\Anaconda3\\lib\\site-packages\\numpy\\lib\\histograms.py:839: RuntimeWarning: invalid value encountered in greater_equal\n",
      "  keep = (tmp_a >= first_edge)\n",
      "C:\\ProgramData\\Anaconda3\\lib\\site-packages\\numpy\\lib\\histograms.py:840: RuntimeWarning: invalid value encountered in less_equal\n",
      "  keep &= (tmp_a <= last_edge)\n"
     ]
    },
    {
     "data": {
      "text/plain": [
       "(array([7.0000e+00, 6.0000e+00, 2.0000e+01, 6.5000e+01, 9.4000e+01,\n",
       "        1.4200e+02, 2.9400e+02, 5.2600e+02, 1.2510e+03, 1.8450e+03,\n",
       "        2.5780e+03, 4.0870e+03, 6.1890e+03, 9.6500e+03, 1.3745e+04,\n",
       "        1.8366e+04, 2.0310e+04, 2.0773e+04, 1.9382e+04, 1.8784e+04,\n",
       "        1.5915e+04, 1.1254e+04, 7.5250e+03, 4.9470e+03, 2.8290e+03,\n",
       "        1.4590e+03, 7.4800e+02, 2.2800e+02, 8.4000e+01, 3.9000e+01]),\n",
       " array([33.        , 35.03333333, 37.06666667, 39.1       , 41.13333333,\n",
       "        43.16666667, 45.2       , 47.23333333, 49.26666667, 51.3       ,\n",
       "        53.33333333, 55.36666667, 57.4       , 59.43333333, 61.46666667,\n",
       "        63.5       , 65.53333333, 67.56666667, 69.6       , 71.63333333,\n",
       "        73.66666667, 75.7       , 77.73333333, 79.76666667, 81.8       ,\n",
       "        83.83333333, 85.86666667, 87.9       , 89.93333333, 91.96666667,\n",
       "        94.        ]),\n",
       " <a list of 30 Patch objects>)"
      ]
     },
     "execution_count": 11,
     "metadata": {},
     "output_type": "execute_result"
    }
   ],
   "source": [
    "plt.hist(target, 30, range=(33, 94))"
   ]
  },
  {
   "cell_type": "markdown",
   "metadata": {},
   "source": [
    "It's almost normal distribution so we can impute mean value for missing value in target."
   ]
  },
  {
   "cell_type": "code",
   "execution_count": 12,
   "metadata": {},
   "outputs": [],
   "source": [
    "y = target.fillna(target.mean())"
   ]
  },
  {
   "cell_type": "code",
   "execution_count": 13,
   "metadata": {},
   "outputs": [
    {
     "data": {
      "text/plain": [
       "False"
      ]
     },
     "execution_count": 13,
     "metadata": {},
     "output_type": "execute_result"
    }
   ],
   "source": [
    "y.isnull().values.any()"
   ]
  },
  {
   "cell_type": "markdown",
   "metadata": {},
   "source": [
    "Data Exploration :"
   ]
  },
  {
   "cell_type": "code",
   "execution_count": 14,
   "metadata": {},
   "outputs": [
    {
     "data": {
      "text/plain": [
       "Index(['id', 'player_fifa_api_id', 'player_api_id', 'date', 'potential',\n",
       "       'preferred_foot', 'attacking_work_rate', 'defensive_work_rate',\n",
       "       'crossing', 'finishing', 'heading_accuracy', 'short_passing', 'volleys',\n",
       "       'dribbling', 'curve', 'free_kick_accuracy', 'long_passing',\n",
       "       'ball_control', 'acceleration', 'sprint_speed', 'agility', 'reactions',\n",
       "       'balance', 'shot_power', 'jumping', 'stamina', 'strength', 'long_shots',\n",
       "       'aggression', 'interceptions', 'positioning', 'vision', 'penalties',\n",
       "       'marking', 'standing_tackle', 'sliding_tackle', 'gk_diving',\n",
       "       'gk_handling', 'gk_kicking', 'gk_positioning', 'gk_reflexes'],\n",
       "      dtype='object')"
      ]
     },
     "execution_count": 14,
     "metadata": {},
     "output_type": "execute_result"
    }
   ],
   "source": [
    "df.columns"
   ]
  },
  {
   "cell_type": "code",
   "execution_count": 15,
   "metadata": {},
   "outputs": [
    {
     "name": "stdout",
     "output_type": "stream",
     "text": [
      "id--> 183978..int64\n",
      "player_fifa_api_id--> 11062..int64\n",
      "player_api_id--> 11060..int64\n",
      "date--> 197..object\n",
      "potential--> 57..float64\n",
      "preferred_foot--> 3..object\n",
      "attacking_work_rate--> 9..object\n",
      "defensive_work_rate--> 20..object\n",
      "crossing--> 96..float64\n",
      "finishing--> 98..float64\n",
      "heading_accuracy--> 97..float64\n",
      "short_passing--> 96..float64\n",
      "volleys--> 94..float64\n",
      "dribbling--> 98..float64\n",
      "curve--> 93..float64\n",
      "free_kick_accuracy--> 98..float64\n",
      "long_passing--> 96..float64\n",
      "ball_control--> 94..float64\n",
      "acceleration--> 87..float64\n",
      "sprint_speed--> 86..float64\n",
      "agility--> 82..float64\n",
      "reactions--> 79..float64\n",
      "balance--> 82..float64\n",
      "shot_power--> 97..float64\n",
      "jumping--> 80..float64\n",
      "stamina--> 85..float64\n",
      "strength--> 83..float64\n",
      "long_shots--> 97..float64\n",
      "aggression--> 92..float64\n",
      "interceptions--> 97..float64\n",
      "positioning--> 96..float64\n",
      "vision--> 98..float64\n",
      "penalties--> 95..float64\n",
      "marking--> 96..float64\n",
      "standing_tackle--> 96..float64\n",
      "sliding_tackle--> 95..float64\n",
      "gk_diving--> 94..float64\n",
      "gk_handling--> 91..float64\n",
      "gk_kicking--> 98..float64\n",
      "gk_positioning--> 95..float64\n",
      "gk_reflexes--> 93..float64\n"
     ]
    }
   ],
   "source": [
    "for col in df.columns:\n",
    "    unique_cat = len(df[col].unique())\n",
    "    print(\"{col}--> {unique_cat}..{typ}\".format(col=col, unique_cat=unique_cat, typ=df[col].dtype))"
   ]
  },
  {
   "cell_type": "code",
   "execution_count": 16,
   "metadata": {},
   "outputs": [
    {
     "data": {
      "text/html": [
       "<div>\n",
       "<style scoped>\n",
       "    .dataframe tbody tr th:only-of-type {\n",
       "        vertical-align: middle;\n",
       "    }\n",
       "\n",
       "    .dataframe tbody tr th {\n",
       "        vertical-align: top;\n",
       "    }\n",
       "\n",
       "    .dataframe thead th {\n",
       "        text-align: right;\n",
       "    }\n",
       "</style>\n",
       "<table border=\"1\" class=\"dataframe\">\n",
       "  <thead>\n",
       "    <tr style=\"text-align: right;\">\n",
       "      <th></th>\n",
       "      <th>id</th>\n",
       "      <th>player_fifa_api_id</th>\n",
       "      <th>player_api_id</th>\n",
       "      <th>date</th>\n",
       "      <th>potential</th>\n",
       "      <th>crossing</th>\n",
       "      <th>finishing</th>\n",
       "      <th>heading_accuracy</th>\n",
       "      <th>short_passing</th>\n",
       "      <th>volleys</th>\n",
       "      <th>...</th>\n",
       "      <th>defensive_work_rate_9</th>\n",
       "      <th>defensive_work_rate__0</th>\n",
       "      <th>defensive_work_rate_ean</th>\n",
       "      <th>defensive_work_rate_es</th>\n",
       "      <th>defensive_work_rate_high</th>\n",
       "      <th>defensive_work_rate_low</th>\n",
       "      <th>defensive_work_rate_medium</th>\n",
       "      <th>defensive_work_rate_o</th>\n",
       "      <th>defensive_work_rate_ormal</th>\n",
       "      <th>defensive_work_rate_tocky</th>\n",
       "    </tr>\n",
       "  </thead>\n",
       "  <tbody>\n",
       "    <tr>\n",
       "      <th>0</th>\n",
       "      <td>1</td>\n",
       "      <td>218353</td>\n",
       "      <td>505942</td>\n",
       "      <td>2016-02-18 00:00:00</td>\n",
       "      <td>71.0</td>\n",
       "      <td>49.0</td>\n",
       "      <td>44.0</td>\n",
       "      <td>71.0</td>\n",
       "      <td>61.0</td>\n",
       "      <td>44.0</td>\n",
       "      <td>...</td>\n",
       "      <td>0</td>\n",
       "      <td>0</td>\n",
       "      <td>0</td>\n",
       "      <td>0</td>\n",
       "      <td>0</td>\n",
       "      <td>0</td>\n",
       "      <td>1</td>\n",
       "      <td>0</td>\n",
       "      <td>0</td>\n",
       "      <td>0</td>\n",
       "    </tr>\n",
       "    <tr>\n",
       "      <th>1</th>\n",
       "      <td>2</td>\n",
       "      <td>218353</td>\n",
       "      <td>505942</td>\n",
       "      <td>2015-11-19 00:00:00</td>\n",
       "      <td>71.0</td>\n",
       "      <td>49.0</td>\n",
       "      <td>44.0</td>\n",
       "      <td>71.0</td>\n",
       "      <td>61.0</td>\n",
       "      <td>44.0</td>\n",
       "      <td>...</td>\n",
       "      <td>0</td>\n",
       "      <td>0</td>\n",
       "      <td>0</td>\n",
       "      <td>0</td>\n",
       "      <td>0</td>\n",
       "      <td>0</td>\n",
       "      <td>1</td>\n",
       "      <td>0</td>\n",
       "      <td>0</td>\n",
       "      <td>0</td>\n",
       "    </tr>\n",
       "    <tr>\n",
       "      <th>2</th>\n",
       "      <td>3</td>\n",
       "      <td>218353</td>\n",
       "      <td>505942</td>\n",
       "      <td>2015-09-21 00:00:00</td>\n",
       "      <td>66.0</td>\n",
       "      <td>49.0</td>\n",
       "      <td>44.0</td>\n",
       "      <td>71.0</td>\n",
       "      <td>61.0</td>\n",
       "      <td>44.0</td>\n",
       "      <td>...</td>\n",
       "      <td>0</td>\n",
       "      <td>0</td>\n",
       "      <td>0</td>\n",
       "      <td>0</td>\n",
       "      <td>0</td>\n",
       "      <td>0</td>\n",
       "      <td>1</td>\n",
       "      <td>0</td>\n",
       "      <td>0</td>\n",
       "      <td>0</td>\n",
       "    </tr>\n",
       "    <tr>\n",
       "      <th>3</th>\n",
       "      <td>4</td>\n",
       "      <td>218353</td>\n",
       "      <td>505942</td>\n",
       "      <td>2015-03-20 00:00:00</td>\n",
       "      <td>65.0</td>\n",
       "      <td>48.0</td>\n",
       "      <td>43.0</td>\n",
       "      <td>70.0</td>\n",
       "      <td>60.0</td>\n",
       "      <td>43.0</td>\n",
       "      <td>...</td>\n",
       "      <td>0</td>\n",
       "      <td>0</td>\n",
       "      <td>0</td>\n",
       "      <td>0</td>\n",
       "      <td>0</td>\n",
       "      <td>0</td>\n",
       "      <td>1</td>\n",
       "      <td>0</td>\n",
       "      <td>0</td>\n",
       "      <td>0</td>\n",
       "    </tr>\n",
       "    <tr>\n",
       "      <th>4</th>\n",
       "      <td>5</td>\n",
       "      <td>218353</td>\n",
       "      <td>505942</td>\n",
       "      <td>2007-02-22 00:00:00</td>\n",
       "      <td>65.0</td>\n",
       "      <td>48.0</td>\n",
       "      <td>43.0</td>\n",
       "      <td>70.0</td>\n",
       "      <td>60.0</td>\n",
       "      <td>43.0</td>\n",
       "      <td>...</td>\n",
       "      <td>0</td>\n",
       "      <td>0</td>\n",
       "      <td>0</td>\n",
       "      <td>0</td>\n",
       "      <td>0</td>\n",
       "      <td>0</td>\n",
       "      <td>1</td>\n",
       "      <td>0</td>\n",
       "      <td>0</td>\n",
       "      <td>0</td>\n",
       "    </tr>\n",
       "  </tbody>\n",
       "</table>\n",
       "<p>5 rows × 67 columns</p>\n",
       "</div>"
      ],
      "text/plain": [
       "   id  player_fifa_api_id  player_api_id                 date  potential  \\\n",
       "0   1              218353         505942  2016-02-18 00:00:00       71.0   \n",
       "1   2              218353         505942  2015-11-19 00:00:00       71.0   \n",
       "2   3              218353         505942  2015-09-21 00:00:00       66.0   \n",
       "3   4              218353         505942  2015-03-20 00:00:00       65.0   \n",
       "4   5              218353         505942  2007-02-22 00:00:00       65.0   \n",
       "\n",
       "   crossing  finishing  heading_accuracy  short_passing  volleys  ...  \\\n",
       "0      49.0       44.0              71.0           61.0     44.0  ...   \n",
       "1      49.0       44.0              71.0           61.0     44.0  ...   \n",
       "2      49.0       44.0              71.0           61.0     44.0  ...   \n",
       "3      48.0       43.0              70.0           60.0     43.0  ...   \n",
       "4      48.0       43.0              70.0           60.0     43.0  ...   \n",
       "\n",
       "   defensive_work_rate_9  defensive_work_rate__0  defensive_work_rate_ean  \\\n",
       "0                      0                       0                        0   \n",
       "1                      0                       0                        0   \n",
       "2                      0                       0                        0   \n",
       "3                      0                       0                        0   \n",
       "4                      0                       0                        0   \n",
       "\n",
       "   defensive_work_rate_es  defensive_work_rate_high  defensive_work_rate_low  \\\n",
       "0                       0                         0                        0   \n",
       "1                       0                         0                        0   \n",
       "2                       0                         0                        0   \n",
       "3                       0                         0                        0   \n",
       "4                       0                         0                        0   \n",
       "\n",
       "   defensive_work_rate_medium  defensive_work_rate_o  \\\n",
       "0                           1                      0   \n",
       "1                           1                      0   \n",
       "2                           1                      0   \n",
       "3                           1                      0   \n",
       "4                           1                      0   \n",
       "\n",
       "   defensive_work_rate_ormal  defensive_work_rate_tocky  \n",
       "0                          0                          0  \n",
       "1                          0                          0  \n",
       "2                          0                          0  \n",
       "3                          0                          0  \n",
       "4                          0                          0  \n",
       "\n",
       "[5 rows x 67 columns]"
      ]
     },
     "execution_count": 16,
     "metadata": {},
     "output_type": "execute_result"
    }
   ],
   "source": [
    "dummy_df = pd.get_dummies(df, columns=['preferred_foot', 'attacking_work_rate', 'defensive_work_rate'])\n",
    "dummy_df.head()"
   ]
  },
  {
   "cell_type": "code",
   "execution_count": 17,
   "metadata": {},
   "outputs": [],
   "source": [
    "X = dummy_df.drop(['id', 'date'], axis=1)"
   ]
  },
  {
   "cell_type": "markdown",
   "metadata": {},
   "source": [
    "Feature selection :"
   ]
  },
  {
   "cell_type": "markdown",
   "metadata": {},
   "source": [
    "As tree model doesn't gets affected by missing values present in data set. but feature selection by SelectFromModel can not be done on datasets that carries null value. Therefore, we should also perform imputation on dataset."
   ]
  },
  {
   "cell_type": "code",
   "execution_count": 18,
   "metadata": {},
   "outputs": [],
   "source": [
    "X_train, X_test, y_train, y_test = train_test_split(X, y, test_size=0.25, random_state=42)"
   ]
  },
  {
   "cell_type": "code",
   "execution_count": 19,
   "metadata": {},
   "outputs": [
    {
     "name": "stderr",
     "output_type": "stream",
     "text": [
      "C:\\Users\\Shridhar M\\AppData\\Roaming\\Python\\Python37\\site-packages\\sklearn\\utils\\deprecation.py:66: DeprecationWarning: Class Imputer is deprecated; Imputer was deprecated in version 0.20 and will be removed in 0.22. Import impute.SimpleImputer from sklearn instead.\n",
      "  warnings.warn(msg, category=DeprecationWarning)\n"
     ]
    }
   ],
   "source": [
    "#imputing null value of each column with the mean of that column\n",
    "imput = Imputer()\n",
    "X_train = imput.fit_transform(X_train)\n",
    "X_test = imput.fit_transform(X_test)"
   ]
  },
  {
   "cell_type": "code",
   "execution_count": 20,
   "metadata": {},
   "outputs": [
    {
     "name": "stdout",
     "output_type": "stream",
     "text": [
      "[13:50:34] WARNING: src/objective/regression_obj.cu:152: reg:linear is now deprecated in favor of reg:squarederror.\n",
      "[0.05115651 0.02897777 0.13911739 0.02826106 0.00595768 0.04332646\n",
      " 0.01590659 0.         0.01287898 0.         0.         0.00348626\n",
      " 0.13141693 0.00436716 0.0058711  0.0065089  0.16110069 0.\n",
      " 0.05513685 0.0040621  0.00863542 0.03761797 0.00898127 0.0139806\n",
      " 0.01894557 0.02671051 0.0015188  0.         0.03219567 0.0530614\n",
      " 0.00176505 0.02725989 0.02712863 0.01008714 0.02617038 0.00840923\n",
      " 0.         0.         0.         0.         0.         0.\n",
      " 0.         0.         0.         0.         0.         0.\n",
      " 0.         0.         0.         0.         0.         0.\n",
      " 0.         0.         0.         0.         0.         0.\n",
      " 0.         0.         0.         0.         0.        ]\n"
     ]
    }
   ],
   "source": [
    "#finding feature_importance for feature selection. from it we'll be able to decide threshold value\n",
    "model = XGBRegressor()\n",
    "model.fit(X_train, y_train)\n",
    "print(model.feature_importances_)"
   ]
  },
  {
   "cell_type": "code",
   "execution_count": 21,
   "metadata": {},
   "outputs": [
    {
     "data": {
      "text/plain": [
       "(137983, 20)"
      ]
     },
     "execution_count": 21,
     "metadata": {},
     "output_type": "execute_result"
    }
   ],
   "source": [
    "selection = SelectFromModel(model, threshold=0.01, prefit=True)\n",
    "\n",
    "select_X_train = selection.transform(X_train)\n",
    "select_X_test = selection.transform(X_test)\n",
    "select_X_train.shape"
   ]
  },
  {
   "cell_type": "markdown",
   "metadata": {},
   "source": [
    "Scaling the data:"
   ]
  },
  {
   "cell_type": "code",
   "execution_count": 22,
   "metadata": {},
   "outputs": [
    {
     "data": {
      "text/plain": [
       "array([[ 1.0567811 ,  2.90118168, -0.37370531, ..., -0.69862488,\n",
       "        -0.65367807, -0.31949444],\n",
       "       [ 0.83239093,  1.11023832, -0.67788964, ..., -0.25617622,\n",
       "        -0.51352154, -0.25716519],\n",
       "       [ 0.17077907,  1.07420333,  0.38675551, ..., -0.12976231,\n",
       "        -0.60695922, -0.19483593],\n",
       "       ...,\n",
       "       [-2.07758255, -0.8212941 ,  1.2993085 , ...,  0.31268635,\n",
       "         2.4764844 ,  0.30379811],\n",
       "       [ 0.44157109, -0.11639067,  0.99512417, ...,  0.37589331,\n",
       "         1.02820027,  0.36612736],\n",
       "       [ 0.22002412, -0.64891505,  1.755585  , ..., -0.69862488,\n",
       "        -0.56024038, -0.50648221]])"
      ]
     },
     "execution_count": 22,
     "metadata": {},
     "output_type": "execute_result"
    }
   ],
   "source": [
    "scalar = StandardScaler()\n",
    "x_scaled_train = scalar.fit_transform(select_X_train)\n",
    "x_scaled_train"
   ]
  },
  {
   "cell_type": "code",
   "execution_count": 23,
   "metadata": {},
   "outputs": [
    {
     "data": {
      "text/plain": [
       "array([[ 0.5825465 ,  0.37577743,  1.14364038, ..., -0.69951284,\n",
       "        -0.65497804, -0.19548251],\n",
       "       [ 0.7131656 ,  0.14588373, -0.22328168, ..., -0.63646818,\n",
       "        -0.60825467, -0.19548251],\n",
       "       [ 0.2307514 , -0.78242149, -0.52704214, ..., -0.51037885,\n",
       "        -0.23446774, -0.00935998],\n",
       "       ...,\n",
       "       [ 0.7233016 ,  0.76992259,  0.83987993, ..., -0.13211088,\n",
       "        -0.37463784, -0.13344167],\n",
       "       [ 0.71524098,  1.61776501,  0.6879997 , ..., -0.25820021,\n",
       "        -0.65497804, -0.50568674],\n",
       "       [ 0.90691696,  2.24229255, -1.74208398, ..., -0.25820021,\n",
       "        -0.5615313 , -0.38160505]])"
      ]
     },
     "execution_count": 23,
     "metadata": {},
     "output_type": "execute_result"
    }
   ],
   "source": [
    "x_scaled_test = scalar.fit_transform(select_X_test)\n",
    "x_scaled_test"
   ]
  },
  {
   "cell_type": "markdown",
   "metadata": {},
   "source": [
    "### Training different models :\n",
    "### 1. Linear Regression :"
   ]
  },
  {
   "cell_type": "code",
   "execution_count": 24,
   "metadata": {},
   "outputs": [
    {
     "data": {
      "text/plain": [
       "LinearRegression(copy_X=True, fit_intercept=True, n_jobs=None, normalize=False)"
      ]
     },
     "execution_count": 24,
     "metadata": {},
     "output_type": "execute_result"
    }
   ],
   "source": [
    "linear_reg = LinearRegression()\n",
    "linear_reg.fit(x_scaled_train, y_train)"
   ]
  },
  {
   "cell_type": "code",
   "execution_count": 25,
   "metadata": {},
   "outputs": [
    {
     "data": {
      "text/plain": [
       "0.8536634604512405"
      ]
     },
     "execution_count": 25,
     "metadata": {},
     "output_type": "execute_result"
    }
   ],
   "source": [
    "linear_reg.score(x_scaled_test, y_test)"
   ]
  },
  {
   "cell_type": "markdown",
   "metadata": {},
   "source": [
    "### Hyperparameter Tuning:"
   ]
  },
  {
   "cell_type": "code",
   "execution_count": 26,
   "metadata": {},
   "outputs": [],
   "source": [
    "cv = ShuffleSplit(random_state=0)   #defining type of cross_validation(shuffle spliting)\n",
    "\n",
    "param_grid = {'n_jobs': [-1]}     #parameters for model tunning\n",
    "\n",
    "grid = GridSearchCV(linear_reg, param_grid=param_grid, cv=cv)"
   ]
  },
  {
   "cell_type": "code",
   "execution_count": 27,
   "metadata": {},
   "outputs": [
    {
     "data": {
      "text/plain": [
       "GridSearchCV(cv=ShuffleSplit(n_splits=10, random_state=0, test_size=None, train_size=None),\n",
       "             error_score='raise-deprecating',\n",
       "             estimator=LinearRegression(copy_X=True, fit_intercept=True,\n",
       "                                        n_jobs=None, normalize=False),\n",
       "             iid='warn', n_jobs=None, param_grid={'n_jobs': [-1]},\n",
       "             pre_dispatch='2*n_jobs', refit=True, return_train_score=False,\n",
       "             scoring=None, verbose=0)"
      ]
     },
     "execution_count": 27,
     "metadata": {},
     "output_type": "execute_result"
    }
   ],
   "source": [
    "grid.fit(select_X_train, y_train) "
   ]
  },
  {
   "cell_type": "code",
   "execution_count": 28,
   "metadata": {},
   "outputs": [
    {
     "data": {
      "text/plain": [
       "{'n_jobs': -1}"
      ]
     },
     "execution_count": 28,
     "metadata": {},
     "output_type": "execute_result"
    }
   ],
   "source": [
    "grid.best_params_"
   ]
  },
  {
   "cell_type": "code",
   "execution_count": 29,
   "metadata": {},
   "outputs": [
    {
     "data": {
      "text/plain": [
       "LinearRegression(copy_X=True, fit_intercept=True, n_jobs=-1, normalize=False)"
      ]
     },
     "execution_count": 29,
     "metadata": {},
     "output_type": "execute_result"
    }
   ],
   "source": [
    "\n",
    "grid.best_estimator_"
   ]
  },
  {
   "cell_type": "code",
   "execution_count": 30,
   "metadata": {},
   "outputs": [
    {
     "data": {
      "text/plain": [
       "LinearRegression(copy_X=True, fit_intercept=True, n_jobs=-1, normalize=False)"
      ]
     },
     "execution_count": 30,
     "metadata": {},
     "output_type": "execute_result"
    }
   ],
   "source": [
    "new_linear_reg = LinearRegression(copy_X=True, fit_intercept=True, n_jobs=-1, normalize=False)\n",
    "new_linear_reg.fit(x_scaled_train, y_train)"
   ]
  },
  {
   "cell_type": "code",
   "execution_count": 31,
   "metadata": {},
   "outputs": [
    {
     "data": {
      "text/plain": [
       "0.8536634604512405"
      ]
     },
     "execution_count": 31,
     "metadata": {},
     "output_type": "execute_result"
    }
   ],
   "source": [
    "new_linear_reg.score(x_scaled_test, y_test)"
   ]
  },
  {
   "cell_type": "markdown",
   "metadata": {},
   "source": [
    "### 2. Decision Tree :"
   ]
  },
  {
   "cell_type": "code",
   "execution_count": 32,
   "metadata": {},
   "outputs": [
    {
     "data": {
      "text/plain": [
       "DecisionTreeRegressor(criterion='mse', max_depth=None, max_features=None,\n",
       "                      max_leaf_nodes=None, min_impurity_decrease=0.0,\n",
       "                      min_impurity_split=None, min_samples_leaf=1,\n",
       "                      min_samples_split=2, min_weight_fraction_leaf=0.0,\n",
       "                      presort=False, random_state=0, splitter='best')"
      ]
     },
     "execution_count": 32,
     "metadata": {},
     "output_type": "execute_result"
    }
   ],
   "source": [
    "decision_tree = DecisionTreeRegressor(criterion='mse', random_state=0)         #estimator\n",
    "decision_tree.fit(x_scaled_train, y_train)"
   ]
  },
  {
   "cell_type": "code",
   "execution_count": 33,
   "metadata": {},
   "outputs": [
    {
     "data": {
      "text/plain": [
       "0.9576184490579795"
      ]
     },
     "execution_count": 33,
     "metadata": {},
     "output_type": "execute_result"
    }
   ],
   "source": [
    "decision_tree.score(x_scaled_test, y_test)"
   ]
  },
  {
   "cell_type": "code",
   "execution_count": 34,
   "metadata": {},
   "outputs": [],
   "source": [
    "\n",
    "cv = ShuffleSplit(n_splits=10, random_state=42)        #cross validation\n",
    "\n",
    "param_grid = {'max_depth': [3, 5, 7, 9, 13],\n",
    "             'criterion': ['mse', 'friedman_mse']}\n",
    "\n",
    "grid = GridSearchCV(decision_tree, param_grid=param_grid, cv=cv)"
   ]
  },
  {
   "cell_type": "code",
   "execution_count": 35,
   "metadata": {},
   "outputs": [
    {
     "data": {
      "text/plain": [
       "GridSearchCV(cv=ShuffleSplit(n_splits=10, random_state=42, test_size=None, train_size=None),\n",
       "             error_score='raise-deprecating',\n",
       "             estimator=DecisionTreeRegressor(criterion='mse', max_depth=None,\n",
       "                                             max_features=None,\n",
       "                                             max_leaf_nodes=None,\n",
       "                                             min_impurity_decrease=0.0,\n",
       "                                             min_impurity_split=None,\n",
       "                                             min_samples_leaf=1,\n",
       "                                             min_samples_split=2,\n",
       "                                             min_weight_fraction_leaf=0.0,\n",
       "                                             presort=False, random_state=0,\n",
       "                                             splitter='best'),\n",
       "             iid='warn', n_jobs=None,\n",
       "             param_grid={'criterion': ['mse', 'friedman_mse'],\n",
       "                         'max_depth': [3, 5, 7, 9, 13]},\n",
       "             pre_dispatch='2*n_jobs', refit=True, return_train_score=False,\n",
       "             scoring=None, verbose=0)"
      ]
     },
     "execution_count": 35,
     "metadata": {},
     "output_type": "execute_result"
    }
   ],
   "source": [
    "grid.fit(select_X_train, y_train)          #training"
   ]
  },
  {
   "cell_type": "code",
   "execution_count": 36,
   "metadata": {},
   "outputs": [
    {
     "data": {
      "text/plain": [
       "{'criterion': 'friedman_mse', 'max_depth': 13}"
      ]
     },
     "execution_count": 36,
     "metadata": {},
     "output_type": "execute_result"
    }
   ],
   "source": [
    "grid.best_params_"
   ]
  },
  {
   "cell_type": "code",
   "execution_count": 37,
   "metadata": {},
   "outputs": [
    {
     "data": {
      "text/plain": [
       "DecisionTreeRegressor(criterion='friedman_mse', max_depth=13, max_features=None,\n",
       "                      max_leaf_nodes=None, min_impurity_decrease=0.0,\n",
       "                      min_impurity_split=None, min_samples_leaf=1,\n",
       "                      min_samples_split=2, min_weight_fraction_leaf=0.0,\n",
       "                      presort=False, random_state=0, splitter='best')"
      ]
     },
     "execution_count": 37,
     "metadata": {},
     "output_type": "execute_result"
    }
   ],
   "source": [
    "grid.best_estimator_"
   ]
  },
  {
   "cell_type": "code",
   "execution_count": 38,
   "metadata": {},
   "outputs": [
    {
     "data": {
      "text/plain": [
       "DecisionTreeRegressor(criterion='friedman_mse', max_depth=24, max_features=None,\n",
       "                      max_leaf_nodes=None, min_impurity_decrease=0.0,\n",
       "                      min_impurity_split=None, min_samples_leaf=1,\n",
       "                      min_samples_split=2, min_weight_fraction_leaf=0.0,\n",
       "                      presort=False, random_state=45, splitter='best')"
      ]
     },
     "execution_count": 38,
     "metadata": {},
     "output_type": "execute_result"
    }
   ],
   "source": [
    "new_deci_tree = DecisionTreeRegressor(criterion='friedman_mse', max_depth=24,\n",
    "           max_features=None, max_leaf_nodes=None,\n",
    "           min_impurity_decrease=0.0, min_impurity_split=None,\n",
    "           min_samples_leaf=1, min_samples_split=2,\n",
    "           min_weight_fraction_leaf=0.0, presort=False, random_state=45,\n",
    "           splitter='best')\n",
    "new_deci_tree.fit(x_scaled_train, y_train)"
   ]
  },
  {
   "cell_type": "code",
   "execution_count": 39,
   "metadata": {},
   "outputs": [
    {
     "data": {
      "text/plain": [
       "0.9572660408433513"
      ]
     },
     "execution_count": 39,
     "metadata": {},
     "output_type": "execute_result"
    }
   ],
   "source": [
    "new_deci_tree.score(x_scaled_test, y_test)"
   ]
  },
  {
   "cell_type": "markdown",
   "metadata": {},
   "source": [
    "### 3. Random Forest :"
   ]
  },
  {
   "cell_type": "code",
   "execution_count": 40,
   "metadata": {},
   "outputs": [
    {
     "name": "stderr",
     "output_type": "stream",
     "text": [
      "C:\\Users\\Shridhar M\\AppData\\Roaming\\Python\\Python37\\site-packages\\sklearn\\ensemble\\forest.py:245: FutureWarning: The default value of n_estimators will change from 10 in version 0.20 to 100 in 0.22.\n",
      "  \"10 in version 0.20 to 100 in 0.22.\", FutureWarning)\n"
     ]
    },
    {
     "data": {
      "text/plain": [
       "RandomForestRegressor(bootstrap=True, criterion='mse', max_depth=None,\n",
       "                      max_features='auto', max_leaf_nodes=None,\n",
       "                      min_impurity_decrease=0.0, min_impurity_split=None,\n",
       "                      min_samples_leaf=1, min_samples_split=2,\n",
       "                      min_weight_fraction_leaf=0.0, n_estimators=10,\n",
       "                      n_jobs=None, oob_score=False, random_state=123, verbose=0,\n",
       "                      warm_start=False)"
      ]
     },
     "execution_count": 40,
     "metadata": {},
     "output_type": "execute_result"
    }
   ],
   "source": [
    "rand_forest = RandomForestRegressor(random_state=123)\n",
    "rand_forest.fit(x_scaled_train, y_train)"
   ]
  },
  {
   "cell_type": "code",
   "execution_count": 41,
   "metadata": {},
   "outputs": [
    {
     "data": {
      "text/plain": [
       "0.976235810489465"
      ]
     },
     "execution_count": 41,
     "metadata": {},
     "output_type": "execute_result"
    }
   ],
   "source": [
    "rand_forest.score(x_scaled_test, y_test)"
   ]
  },
  {
   "cell_type": "markdown",
   "metadata": {},
   "source": [
    "### Hyperparameter Tuning:"
   ]
  },
  {
   "cell_type": "code",
   "execution_count": 42,
   "metadata": {},
   "outputs": [],
   "source": [
    "cv = ShuffleSplit(test_size=0.2, random_state=0)\n",
    "\n",
    "param_grid = {'max_features':['sqrt', 'log2', 10],\n",
    "              'max_depth':[9, 11, 13]}                 \n",
    "\n",
    "grid = GridSearchCV(rand_forest, param_grid=param_grid, cv=cv)"
   ]
  },
  {
   "cell_type": "code",
   "execution_count": 43,
   "metadata": {},
   "outputs": [
    {
     "data": {
      "text/plain": [
       "GridSearchCV(cv=ShuffleSplit(n_splits=10, random_state=0, test_size=0.2, train_size=None),\n",
       "             error_score='raise-deprecating',\n",
       "             estimator=RandomForestRegressor(bootstrap=True, criterion='mse',\n",
       "                                             max_depth=None,\n",
       "                                             max_features='auto',\n",
       "                                             max_leaf_nodes=None,\n",
       "                                             min_impurity_decrease=0.0,\n",
       "                                             min_impurity_split=None,\n",
       "                                             min_samples_leaf=1,\n",
       "                                             min_samples_split=2,\n",
       "                                             min_weight_fraction_leaf=0.0,\n",
       "                                             n_estimators=10, n_jobs=None,\n",
       "                                             oob_score=False, random_state=123,\n",
       "                                             verbose=0, warm_start=False),\n",
       "             iid='warn', n_jobs=None,\n",
       "             param_grid={'max_depth': [9, 11, 13],\n",
       "                         'max_features': ['sqrt', 'log2', 10]},\n",
       "             pre_dispatch='2*n_jobs', refit=True, return_train_score=False,\n",
       "             scoring=None, verbose=0)"
      ]
     },
     "execution_count": 43,
     "metadata": {},
     "output_type": "execute_result"
    }
   ],
   "source": [
    "grid.fit(x_scaled_train, y_train) "
   ]
  },
  {
   "cell_type": "code",
   "execution_count": 44,
   "metadata": {},
   "outputs": [
    {
     "data": {
      "text/plain": [
       "RandomForestRegressor(bootstrap=True, criterion='mse', max_depth=13,\n",
       "                      max_features=10, max_leaf_nodes=None,\n",
       "                      min_impurity_decrease=0.0, min_impurity_split=None,\n",
       "                      min_samples_leaf=1, min_samples_split=2,\n",
       "                      min_weight_fraction_leaf=0.0, n_estimators=10,\n",
       "                      n_jobs=None, oob_score=False, random_state=123, verbose=0,\n",
       "                      warm_start=False)"
      ]
     },
     "execution_count": 44,
     "metadata": {},
     "output_type": "execute_result"
    }
   ],
   "source": [
    "grid.best_estimator_"
   ]
  },
  {
   "cell_type": "code",
   "execution_count": 45,
   "metadata": {},
   "outputs": [
    {
     "data": {
      "text/plain": [
       "RandomForestRegressor(bootstrap=True, criterion='mse', max_depth=33,\n",
       "                      max_features=10, max_leaf_nodes=None,\n",
       "                      min_impurity_decrease=0.0, min_impurity_split=None,\n",
       "                      min_samples_leaf=1, min_samples_split=2,\n",
       "                      min_weight_fraction_leaf=0.0, n_estimators=10, n_jobs=1,\n",
       "                      oob_score=False, random_state=42, verbose=0,\n",
       "                      warm_start=False)"
      ]
     },
     "execution_count": 45,
     "metadata": {},
     "output_type": "execute_result"
    }
   ],
   "source": [
    "new_rand_forest = RandomForestRegressor(bootstrap=True, criterion='mse', max_depth=33,\n",
    "           max_features=10, max_leaf_nodes=None, min_impurity_decrease=0.0,\n",
    "           min_impurity_split=None, min_samples_leaf=1,\n",
    "           min_samples_split=2, min_weight_fraction_leaf=0.0,\n",
    "           n_estimators=10, n_jobs=1, oob_score=False, random_state=42,\n",
    "           verbose=0, warm_start=False)\n",
    "new_rand_forest.fit(x_scaled_train, y_train)"
   ]
  },
  {
   "cell_type": "code",
   "execution_count": 46,
   "metadata": {},
   "outputs": [
    {
     "data": {
      "text/plain": [
       "0.9790005019563306"
      ]
     },
     "execution_count": 46,
     "metadata": {},
     "output_type": "execute_result"
    }
   ],
   "source": [
    "new_rand_forest.score(x_scaled_test, y_test)"
   ]
  },
  {
   "cell_type": "markdown",
   "metadata": {},
   "source": [
    "### 4. Xgboost regressor :"
   ]
  },
  {
   "cell_type": "code",
   "execution_count": 47,
   "metadata": {},
   "outputs": [
    {
     "name": "stdout",
     "output_type": "stream",
     "text": [
      "[14:28:50] WARNING: src/objective/regression_obj.cu:152: reg:linear is now deprecated in favor of reg:squarederror.\n"
     ]
    },
    {
     "data": {
      "text/plain": [
       "XGBRegressor(base_score=0.5, booster='gbtree', colsample_bylevel=1,\n",
       "             colsample_bynode=1, colsample_bytree=1, gamma=0,\n",
       "             importance_type='gain', learning_rate=0.1, max_delta_step=0,\n",
       "             max_depth=3, min_child_weight=1, missing=None, n_estimators=100,\n",
       "             n_jobs=1, nthread=None, objective='reg:linear', random_state=42,\n",
       "             reg_alpha=0, reg_lambda=1, scale_pos_weight=1, seed=None,\n",
       "             silent=None, subsample=1, verbosity=1)"
      ]
     },
     "execution_count": 47,
     "metadata": {},
     "output_type": "execute_result"
    }
   ],
   "source": [
    "xgr = XGBRegressor(random_state=42)\n",
    "xgr.fit(x_scaled_train, y_train)"
   ]
  },
  {
   "cell_type": "code",
   "execution_count": 48,
   "metadata": {},
   "outputs": [
    {
     "data": {
      "text/plain": [
       "0.9335978676486084"
      ]
     },
     "execution_count": 48,
     "metadata": {},
     "output_type": "execute_result"
    }
   ],
   "source": [
    "xgr.score(x_scaled_test, y_test)"
   ]
  },
  {
   "cell_type": "markdown",
   "metadata": {},
   "source": [
    "### Hyperparameter Tuning:"
   ]
  },
  {
   "cell_type": "code",
   "execution_count": 49,
   "metadata": {},
   "outputs": [],
   "source": [
    "cv = ShuffleSplit(n_splits=10, random_state=0)\n",
    "\n",
    "param_grid = {'max_depth': [5, 7],\n",
    "              'learning_rate': [0.1, 0.3]}\n",
    "\n",
    "grid = GridSearchCV(xgr, param_grid=param_grid, cv=cv, n_jobs= -1)"
   ]
  },
  {
   "cell_type": "code",
   "execution_count": 50,
   "metadata": {},
   "outputs": [
    {
     "name": "stdout",
     "output_type": "stream",
     "text": [
      "[14:38:03] WARNING: src/objective/regression_obj.cu:152: reg:linear is now deprecated in favor of reg:squarederror.\n"
     ]
    },
    {
     "data": {
      "text/plain": [
       "GridSearchCV(cv=ShuffleSplit(n_splits=10, random_state=0, test_size=None, train_size=None),\n",
       "             error_score='raise-deprecating',\n",
       "             estimator=XGBRegressor(base_score=0.5, booster='gbtree',\n",
       "                                    colsample_bylevel=1, colsample_bynode=1,\n",
       "                                    colsample_bytree=1, gamma=0,\n",
       "                                    importance_type='gain', learning_rate=0.1,\n",
       "                                    max_delta_step=0, max_depth=3,\n",
       "                                    min_child_weight=1, missing=None,\n",
       "                                    n_estimators=100, n_jobs=1, nthread=None,\n",
       "                                    objective='reg:linear', random_state=42,\n",
       "                                    reg_alpha=0, reg_lambda=1,\n",
       "                                    scale_pos_weight=1, seed=None, silent=None,\n",
       "                                    subsample=1, verbosity=1),\n",
       "             iid='warn', n_jobs=-1,\n",
       "             param_grid={'learning_rate': [0.1, 0.3], 'max_depth': [5, 7]},\n",
       "             pre_dispatch='2*n_jobs', refit=True, return_train_score=False,\n",
       "             scoring=None, verbose=0)"
      ]
     },
     "execution_count": 50,
     "metadata": {},
     "output_type": "execute_result"
    }
   ],
   "source": [
    "grid.fit(x_scaled_train, y_train)"
   ]
  },
  {
   "cell_type": "code",
   "execution_count": 51,
   "metadata": {},
   "outputs": [
    {
     "data": {
      "text/plain": [
       "XGBRegressor(base_score=0.5, booster='gbtree', colsample_bylevel=1,\n",
       "             colsample_bynode=1, colsample_bytree=1, gamma=0,\n",
       "             importance_type='gain', learning_rate=0.3, max_delta_step=0,\n",
       "             max_depth=7, min_child_weight=1, missing=None, n_estimators=100,\n",
       "             n_jobs=1, nthread=None, objective='reg:linear', random_state=42,\n",
       "             reg_alpha=0, reg_lambda=1, scale_pos_weight=1, seed=None,\n",
       "             silent=None, subsample=1, verbosity=1)"
      ]
     },
     "execution_count": 51,
     "metadata": {},
     "output_type": "execute_result"
    }
   ],
   "source": [
    "grid.best_estimator_"
   ]
  },
  {
   "cell_type": "code",
   "execution_count": 56,
   "metadata": {},
   "outputs": [
    {
     "name": "stdout",
     "output_type": "stream",
     "text": [
      "[14:41:57] WARNING: src/objective/regression_obj.cu:152: reg:linear is now deprecated in favor of reg:squarederror.\n"
     ]
    },
    {
     "data": {
      "text/plain": [
       "XGBRegressor(base_score=0.5, booster='gbtree', colsample_bylevel=1,\n",
       "             colsample_bynode=1, colsample_bytree=1, gamma=0,\n",
       "             importance_type='gain', learning_rate=0.3, max_delta_step=0,\n",
       "             max_depth=7, min_child_weight=1, missing=None, n_estimators=100,\n",
       "             n_jobs=1, nthread=None, objective='reg:linear', random_state=42,\n",
       "             reg_alpha=0, reg_lambda=1, scale_pos_weight=1, seed=None,\n",
       "             silent=None, subsample=1, verbosity=1)"
      ]
     },
     "execution_count": 56,
     "metadata": {},
     "output_type": "execute_result"
    }
   ],
   "source": [
    "new_xgr = XGBRegressor(base_score=0.5, booster='gbtree', colsample_bylevel=1,\n",
    "             colsample_bynode=1, colsample_bytree=1, gamma=0,\n",
    "             importance_type='gain', learning_rate=0.3, max_delta_step=0,\n",
    "             max_depth=7, min_child_weight=1, missing=None, n_estimators=100,\n",
    "             n_jobs=1, nthread=None, objective='reg:linear', random_state=42,\n",
    "             reg_alpha=0, reg_lambda=1, scale_pos_weight=1, seed=None,\n",
    "             silent=None, subsample=1, verbosity=1)\n",
    "new_xgr.fit(x_scaled_train, y_train)"
   ]
  },
  {
   "cell_type": "code",
   "execution_count": 57,
   "metadata": {},
   "outputs": [
    {
     "data": {
      "text/plain": [
       "0.9655836899933903"
      ]
     },
     "execution_count": 57,
     "metadata": {},
     "output_type": "execute_result"
    }
   ],
   "source": [
    "new_xgr.score(x_scaled_test, y_test)"
   ]
  },
  {
   "cell_type": "code",
   "execution_count": 58,
   "metadata": {},
   "outputs": [
    {
     "name": "stdout",
     "output_type": "stream",
     "text": [
      "Linear Regressor accuracy is 0.8536634604512405\n",
      "DecisionTree Regressor accuracy is 0.9572660408433513\n",
      "RandomForest regressor accuracy is 0.9790005019563306\n",
      "XGBoost regressor accuracy is 0.9655836899933903\n"
     ]
    }
   ],
   "source": [
    "print(\"\"\"Linear Regressor accuracy is {lin}\n",
    "DecisionTree Regressor accuracy is {Dec}\n",
    "RandomForest regressor accuracy is {ran}\n",
    "XGBoost regressor accuracy is {xgb}\"\"\".format(lin=new_linear_reg.score(x_scaled_test, y_test),\n",
    "                                                       Dec=new_deci_tree.score(x_scaled_test, y_test),\n",
    "                                                       ran=new_rand_forest.score(x_scaled_test, y_test),\n",
    "                                                       xgb=new_xgr.score(x_scaled_test, y_test)))"
   ]
  },
  {
   "cell_type": "markdown",
   "metadata": {},
   "source": [
    "By accuracy comparision performed above we can say hear that Random Forest regressor gives better result than any other model. and it can predict the target function with approx 98% accuracy."
   ]
  },
  {
   "cell_type": "code",
   "execution_count": null,
   "metadata": {},
   "outputs": [],
   "source": []
  }
 ],
 "metadata": {
  "kernelspec": {
   "display_name": "Python 3",
   "language": "python",
   "name": "python3"
  },
  "language_info": {
   "codemirror_mode": {
    "name": "ipython",
    "version": 3
   },
   "file_extension": ".py",
   "mimetype": "text/x-python",
   "name": "python",
   "nbconvert_exporter": "python",
   "pygments_lexer": "ipython3",
   "version": "3.7.6"
  }
 },
 "nbformat": 4,
 "nbformat_minor": 4
}
